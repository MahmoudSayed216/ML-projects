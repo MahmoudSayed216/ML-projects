{
 "cells": [
  {
   "cell_type": "code",
   "execution_count": 1,
   "metadata": {},
   "outputs": [
    {
     "data": {
      "text/html": [
       "<div>\n",
       "<style scoped>\n",
       "    .dataframe tbody tr th:only-of-type {\n",
       "        vertical-align: middle;\n",
       "    }\n",
       "\n",
       "    .dataframe tbody tr th {\n",
       "        vertical-align: top;\n",
       "    }\n",
       "\n",
       "    .dataframe thead th {\n",
       "        text-align: right;\n",
       "    }\n",
       "</style>\n",
       "<table border=\"1\" class=\"dataframe\">\n",
       "  <thead>\n",
       "    <tr style=\"text-align: right;\">\n",
       "      <th></th>\n",
       "      <th>Name</th>\n",
       "      <th>Age</th>\n",
       "      <th>Gender</th>\n",
       "      <th>Blood Type</th>\n",
       "      <th>Medical Condition</th>\n",
       "      <th>Date of Admission</th>\n",
       "      <th>Doctor</th>\n",
       "      <th>Hospital</th>\n",
       "      <th>Insurance Provider</th>\n",
       "      <th>Billing Amount</th>\n",
       "      <th>Room Number</th>\n",
       "      <th>Admission Type</th>\n",
       "      <th>Discharge Date</th>\n",
       "      <th>Medication</th>\n",
       "      <th>Test Results</th>\n",
       "    </tr>\n",
       "  </thead>\n",
       "  <tbody>\n",
       "    <tr>\n",
       "      <th>0</th>\n",
       "      <td>Ruben Burns</td>\n",
       "      <td>35</td>\n",
       "      <td>Male</td>\n",
       "      <td>O+</td>\n",
       "      <td>Asthma</td>\n",
       "      <td>2023-06-01</td>\n",
       "      <td>Diane Jackson</td>\n",
       "      <td>Burke, Griffin and Cooper</td>\n",
       "      <td>UnitedHealthcare</td>\n",
       "      <td>47304.064845</td>\n",
       "      <td>404</td>\n",
       "      <td>Emergency</td>\n",
       "      <td>2023-06-15</td>\n",
       "      <td>Lipitor</td>\n",
       "      <td>Normal</td>\n",
       "    </tr>\n",
       "    <tr>\n",
       "      <th>1</th>\n",
       "      <td>Chad Byrd</td>\n",
       "      <td>61</td>\n",
       "      <td>Male</td>\n",
       "      <td>B-</td>\n",
       "      <td>NaN</td>\n",
       "      <td>2019-01-09</td>\n",
       "      <td>Paul Baker</td>\n",
       "      <td>Walton LLC</td>\n",
       "      <td>Medicare</td>\n",
       "      <td>0.000000</td>\n",
       "      <td>292</td>\n",
       "      <td>Emergency</td>\n",
       "      <td>2019-02-08</td>\n",
       "      <td>Lipitor</td>\n",
       "      <td>Normal</td>\n",
       "    </tr>\n",
       "    <tr>\n",
       "      <th>2</th>\n",
       "      <td>Antonio Frederick</td>\n",
       "      <td>49</td>\n",
       "      <td>Male</td>\n",
       "      <td>B-</td>\n",
       "      <td>Asthma</td>\n",
       "      <td>2020-05-02</td>\n",
       "      <td>Brian Chandler</td>\n",
       "      <td>Garcia Ltd</td>\n",
       "      <td>Medicare</td>\n",
       "      <td>23303.322092</td>\n",
       "      <td>-480</td>\n",
       "      <td>Urgent</td>\n",
       "      <td>2020-05-03</td>\n",
       "      <td>Penicillin</td>\n",
       "      <td>Abnormal</td>\n",
       "    </tr>\n",
       "    <tr>\n",
       "      <th>3</th>\n",
       "      <td>Mrs. Brandy Flowers</td>\n",
       "      <td>51</td>\n",
       "      <td>Male</td>\n",
       "      <td>O-</td>\n",
       "      <td>Arthritis</td>\n",
       "      <td>2021-07-09</td>\n",
       "      <td>Dustin Griffin</td>\n",
       "      <td>Jones, Brown and Murray</td>\n",
       "      <td>UnitedHealthcare</td>\n",
       "      <td>-18086.344184</td>\n",
       "      <td>477</td>\n",
       "      <td>Urgent</td>\n",
       "      <td>2021-08-02</td>\n",
       "      <td>NaN</td>\n",
       "      <td>Normal</td>\n",
       "    </tr>\n",
       "    <tr>\n",
       "      <th>4</th>\n",
       "      <td>Patrick Parker</td>\n",
       "      <td>41</td>\n",
       "      <td>Male</td>\n",
       "      <td>AB+</td>\n",
       "      <td>Arthritis</td>\n",
       "      <td>2020-08-20</td>\n",
       "      <td>Robin Green</td>\n",
       "      <td>Boyd PLC</td>\n",
       "      <td>Aetna</td>\n",
       "      <td>22522.363385</td>\n",
       "      <td>180</td>\n",
       "      <td>Urgent</td>\n",
       "      <td>2020-08-23</td>\n",
       "      <td>Aspirin</td>\n",
       "      <td>Abnormal</td>\n",
       "    </tr>\n",
       "  </tbody>\n",
       "</table>\n",
       "</div>"
      ],
      "text/plain": [
       "                  Name  Age Gender Blood Type Medical Condition  \\\n",
       "0          Ruben Burns   35   Male         O+            Asthma   \n",
       "1            Chad Byrd   61   Male         B-               NaN   \n",
       "2    Antonio Frederick   49   Male         B-            Asthma   \n",
       "3  Mrs. Brandy Flowers   51   Male         O-         Arthritis   \n",
       "4       Patrick Parker   41   Male        AB+         Arthritis   \n",
       "\n",
       "  Date of Admission          Doctor                   Hospital  \\\n",
       "0        2023-06-01   Diane Jackson  Burke, Griffin and Cooper   \n",
       "1        2019-01-09      Paul Baker                 Walton LLC   \n",
       "2        2020-05-02  Brian Chandler                 Garcia Ltd   \n",
       "3        2021-07-09  Dustin Griffin    Jones, Brown and Murray   \n",
       "4        2020-08-20     Robin Green                   Boyd PLC   \n",
       "\n",
       "  Insurance Provider  Billing Amount  Room Number Admission Type  \\\n",
       "0   UnitedHealthcare    47304.064845          404      Emergency   \n",
       "1           Medicare        0.000000          292      Emergency   \n",
       "2           Medicare    23303.322092         -480         Urgent   \n",
       "3   UnitedHealthcare   -18086.344184          477         Urgent   \n",
       "4              Aetna    22522.363385          180         Urgent   \n",
       "\n",
       "  Discharge Date  Medication Test Results  \n",
       "0     2023-06-15     Lipitor       Normal  \n",
       "1     2019-02-08     Lipitor       Normal  \n",
       "2     2020-05-03  Penicillin     Abnormal  \n",
       "3     2021-08-02         NaN       Normal  \n",
       "4     2020-08-23     Aspirin     Abnormal  "
      ]
     },
     "execution_count": 1,
     "metadata": {},
     "output_type": "execute_result"
    }
   ],
   "source": [
    "import pandas as pd\n",
    "import numpy as np\n",
    "\n",
    "train = pd.read_excel(\"student_helthcare_dataset_train.xlsx\")\n",
    "test = pd.read_excel(\"student_helthcare_dataset_test.xlsx\")\n",
    "\n",
    "train.head()"
   ]
  },
  {
   "cell_type": "code",
   "execution_count": 2,
   "metadata": {},
   "outputs": [
    {
     "data": {
      "text/plain": [
       "Index(['Name', 'Age', 'Gender', 'Blood Type', 'Medical Condition',\n",
       "       'Date of Admission', 'Doctor', 'Hospital', 'Insurance Provider',\n",
       "       'Billing Amount', 'Room Number', 'Admission Type', 'Discharge Date',\n",
       "       'Medication', 'Test Results'],\n",
       "      dtype='object')"
      ]
     },
     "execution_count": 2,
     "metadata": {},
     "output_type": "execute_result"
    }
   ],
   "source": [
    "columns = train.columns\n",
    "columns"
   ]
  },
  {
   "cell_type": "code",
   "execution_count": 3,
   "metadata": {},
   "outputs": [
    {
     "data": {
      "text/plain": [
       "Doctor\n",
       "James Williams       4\n",
       "James Perez          4\n",
       "Michael Smith        4\n",
       "Christopher Davis    4\n",
       "Robert Brown         3\n",
       "                    ..\n",
       "Angela Evans DDS     1\n",
       "Juan Reyes           1\n",
       "Gregory Delgado      1\n",
       "Mary Banks MD        1\n",
       "Dean Dalton          1\n",
       "Name: count, Length: 5825, dtype: int64"
      ]
     },
     "execution_count": 3,
     "metadata": {},
     "output_type": "execute_result"
    }
   ],
   "source": [
    "train[\"Doctor\"].value_counts()"
   ]
  },
  {
   "cell_type": "code",
   "execution_count": 4,
   "metadata": {},
   "outputs": [
    {
     "data": {
      "text/plain": [
       "Hospital\n",
       "Smith and Sons                12\n",
       "Smith PLC                     11\n",
       "Smith Inc                     10\n",
       "Johnson PLC                    9\n",
       "Johnson Group                  8\n",
       "                              ..\n",
       "Clayton, Anderson and Ho       1\n",
       "Ford, Vincent and Robinson     1\n",
       "Harris-Rivera                  1\n",
       "Aguilar, Hubbard and Glenn     1\n",
       "Cooper and Sons                1\n",
       "Name: count, Length: 5425, dtype: int64"
      ]
     },
     "execution_count": 4,
     "metadata": {},
     "output_type": "execute_result"
    }
   ],
   "source": [
    "train[\"Hospital\"].value_counts()"
   ]
  },
  {
   "cell_type": "code",
   "execution_count": 5,
   "metadata": {},
   "outputs": [
    {
     "data": {
      "text/plain": [
       "Medical Condition\n",
       "Cancer          1048\n",
       "Asthma          1043\n",
       "Hypertension    1022\n",
       "Obesity          982\n",
       "Arthritis        975\n",
       "Diabetes         971\n",
       "Name: count, dtype: int64"
      ]
     },
     "execution_count": 5,
     "metadata": {},
     "output_type": "execute_result"
    }
   ],
   "source": [
    "train[\"Medical Condition\"].value_counts()"
   ]
  },
  {
   "cell_type": "code",
   "execution_count": 6,
   "metadata": {},
   "outputs": [
    {
     "data": {
      "text/plain": [
       "Insurance Provider\n",
       "Cigna               1266\n",
       "Aetna               1241\n",
       "Blue Cross          1225\n",
       "Medicare            1160\n",
       "UnitedHealthcare    1158\n",
       "Name: count, dtype: int64"
      ]
     },
     "execution_count": 6,
     "metadata": {},
     "output_type": "execute_result"
    }
   ],
   "source": [
    "train[\"Insurance Provider\"].value_counts()"
   ]
  },
  {
   "cell_type": "code",
   "execution_count": 7,
   "metadata": {},
   "outputs": [
    {
     "data": {
      "text/plain": [
       "Medication\n",
       "Penicillin     1258\n",
       "Ibuprofen      1210\n",
       "Aspirin        1195\n",
       "Lipitor        1192\n",
       "Paracetamol    1187\n",
       "Name: count, dtype: int64"
      ]
     },
     "execution_count": 7,
     "metadata": {},
     "output_type": "execute_result"
    }
   ],
   "source": [
    "train[\"Medication\"].value_counts()"
   ]
  },
  {
   "cell_type": "code",
   "execution_count": 8,
   "metadata": {},
   "outputs": [
    {
     "data": {
      "text/plain": [
       "Blood Type\n",
       "A-     776\n",
       "O-     769\n",
       "B-     767\n",
       "AB-    764\n",
       "A+     761\n",
       "AB+    751\n",
       "O+     738\n",
       "B+     724\n",
       "Name: count, dtype: int64"
      ]
     },
     "execution_count": 8,
     "metadata": {},
     "output_type": "execute_result"
    }
   ],
   "source": [
    "train[\"Blood Type\"].value_counts()"
   ]
  },
  {
   "cell_type": "code",
   "execution_count": 9,
   "metadata": {},
   "outputs": [
    {
     "name": "stdout",
     "output_type": "stream",
     "text": [
      "Number of unique values in Name:  5798\n",
      "Number of unique values in Age:  68\n",
      "Number of unique values in Gender:  2\n",
      "Number of unique values in Blood Type:  8\n",
      "Number of unique values in Medical Condition:  7\n",
      "Number of unique values in Date of Admission:  1756\n",
      "Number of unique values in Doctor:  5825\n",
      "Number of unique values in Hospital:  5425\n",
      "Number of unique values in Insurance Provider:  5\n",
      "Number of unique values in Billing Amount:  6044\n",
      "Number of unique values in Room Number:  405\n",
      "Number of unique values in Admission Type:  3\n",
      "Number of unique values in Discharge Date:  1768\n",
      "Number of unique values in Medication:  6\n",
      "Number of unique values in Test Results:  2\n"
     ]
    }
   ],
   "source": [
    "columns = train.columns\n",
    "\n",
    "for column in columns:\n",
    "    num_of_unique_values = len(train[column].unique())\n",
    "    print(f\"Number of unique values in {column}: \",num_of_unique_values)"
   ]
  },
  {
   "cell_type": "code",
   "execution_count": 10,
   "metadata": {},
   "outputs": [
    {
     "data": {
      "text/html": [
       "<div>\n",
       "<style scoped>\n",
       "    .dataframe tbody tr th:only-of-type {\n",
       "        vertical-align: middle;\n",
       "    }\n",
       "\n",
       "    .dataframe tbody tr th {\n",
       "        vertical-align: top;\n",
       "    }\n",
       "\n",
       "    .dataframe thead th {\n",
       "        text-align: right;\n",
       "    }\n",
       "</style>\n",
       "<table border=\"1\" class=\"dataframe\">\n",
       "  <thead>\n",
       "    <tr style=\"text-align: right;\">\n",
       "      <th></th>\n",
       "      <th>Age</th>\n",
       "      <th>Billing Amount</th>\n",
       "      <th>Room Number</th>\n",
       "    </tr>\n",
       "  </thead>\n",
       "  <tbody>\n",
       "    <tr>\n",
       "      <th>count</th>\n",
       "      <td>6050.000000</td>\n",
       "      <td>6.050000e+03</td>\n",
       "      <td>6050.000000</td>\n",
       "    </tr>\n",
       "    <tr>\n",
       "      <th>mean</th>\n",
       "      <td>51.429752</td>\n",
       "      <td>2.158714e+04</td>\n",
       "      <td>300.270744</td>\n",
       "    </tr>\n",
       "    <tr>\n",
       "      <th>std</th>\n",
       "      <td>19.553034</td>\n",
       "      <td>2.940994e+05</td>\n",
       "      <td>118.031170</td>\n",
       "    </tr>\n",
       "    <tr>\n",
       "      <th>min</th>\n",
       "      <td>18.000000</td>\n",
       "      <td>-2.282298e+07</td>\n",
       "      <td>-492.000000</td>\n",
       "    </tr>\n",
       "    <tr>\n",
       "      <th>25%</th>\n",
       "      <td>35.000000</td>\n",
       "      <td>1.317240e+04</td>\n",
       "      <td>198.000000</td>\n",
       "    </tr>\n",
       "    <tr>\n",
       "      <th>50%</th>\n",
       "      <td>52.000000</td>\n",
       "      <td>2.507342e+04</td>\n",
       "      <td>300.500000</td>\n",
       "    </tr>\n",
       "    <tr>\n",
       "      <th>75%</th>\n",
       "      <td>68.000000</td>\n",
       "      <td>3.771203e+04</td>\n",
       "      <td>402.000000</td>\n",
       "    </tr>\n",
       "    <tr>\n",
       "      <th>max</th>\n",
       "      <td>85.000000</td>\n",
       "      <td>1.426107e+05</td>\n",
       "      <td>500.000000</td>\n",
       "    </tr>\n",
       "  </tbody>\n",
       "</table>\n",
       "</div>"
      ],
      "text/plain": [
       "               Age  Billing Amount  Room Number\n",
       "count  6050.000000    6.050000e+03  6050.000000\n",
       "mean     51.429752    2.158714e+04   300.270744\n",
       "std      19.553034    2.940994e+05   118.031170\n",
       "min      18.000000   -2.282298e+07  -492.000000\n",
       "25%      35.000000    1.317240e+04   198.000000\n",
       "50%      52.000000    2.507342e+04   300.500000\n",
       "75%      68.000000    3.771203e+04   402.000000\n",
       "max      85.000000    1.426107e+05   500.000000"
      ]
     },
     "execution_count": 10,
     "metadata": {},
     "output_type": "execute_result"
    }
   ],
   "source": [
    "train.describe()"
   ]
  },
  {
   "cell_type": "code",
   "execution_count": 11,
   "metadata": {},
   "outputs": [
    {
     "name": "stdout",
     "output_type": "stream",
     "text": [
      "<class 'pandas.core.frame.DataFrame'>\n",
      "RangeIndex: 6050 entries, 0 to 6049\n",
      "Data columns (total 15 columns):\n",
      " #   Column              Non-Null Count  Dtype  \n",
      "---  ------              --------------  -----  \n",
      " 0   Name                6050 non-null   object \n",
      " 1   Age                 6050 non-null   int64  \n",
      " 2   Gender              6050 non-null   object \n",
      " 3   Blood Type          6050 non-null   object \n",
      " 4   Medical Condition   6041 non-null   object \n",
      " 5   Date of Admission   6050 non-null   object \n",
      " 6   Doctor              6050 non-null   object \n",
      " 7   Hospital            6050 non-null   object \n",
      " 8   Insurance Provider  6050 non-null   object \n",
      " 9   Billing Amount      6050 non-null   float64\n",
      " 10  Room Number         6050 non-null   int64  \n",
      " 11  Admission Type      6050 non-null   object \n",
      " 12  Discharge Date      6050 non-null   object \n",
      " 13  Medication          6042 non-null   object \n",
      " 14  Test Results        6050 non-null   object \n",
      "dtypes: float64(1), int64(2), object(12)\n",
      "memory usage: 709.1+ KB\n"
     ]
    }
   ],
   "source": [
    "train.info()"
   ]
  },
  {
   "cell_type": "markdown",
   "metadata": {},
   "source": [
    "## Names of patients, and their rooms wouldn't be helpful to our model\n",
    "## Hospital, and Doctor would be useful but they contain too many unique values, which is hard to encode"
   ]
  },
  {
   "cell_type": "code",
   "execution_count": 12,
   "metadata": {},
   "outputs": [
    {
     "data": {
      "text/html": [
       "<div>\n",
       "<style scoped>\n",
       "    .dataframe tbody tr th:only-of-type {\n",
       "        vertical-align: middle;\n",
       "    }\n",
       "\n",
       "    .dataframe tbody tr th {\n",
       "        vertical-align: top;\n",
       "    }\n",
       "\n",
       "    .dataframe thead th {\n",
       "        text-align: right;\n",
       "    }\n",
       "</style>\n",
       "<table border=\"1\" class=\"dataframe\">\n",
       "  <thead>\n",
       "    <tr style=\"text-align: right;\">\n",
       "      <th></th>\n",
       "      <th>Age</th>\n",
       "      <th>Gender</th>\n",
       "      <th>Blood Type</th>\n",
       "      <th>Medical Condition</th>\n",
       "      <th>Date of Admission</th>\n",
       "      <th>Insurance Provider</th>\n",
       "      <th>Billing Amount</th>\n",
       "      <th>Admission Type</th>\n",
       "      <th>Discharge Date</th>\n",
       "      <th>Medication</th>\n",
       "      <th>Test Results</th>\n",
       "    </tr>\n",
       "  </thead>\n",
       "  <tbody>\n",
       "    <tr>\n",
       "      <th>0</th>\n",
       "      <td>35</td>\n",
       "      <td>Male</td>\n",
       "      <td>O+</td>\n",
       "      <td>Asthma</td>\n",
       "      <td>2023-06-01</td>\n",
       "      <td>UnitedHealthcare</td>\n",
       "      <td>47304.064845</td>\n",
       "      <td>Emergency</td>\n",
       "      <td>2023-06-15</td>\n",
       "      <td>Lipitor</td>\n",
       "      <td>Normal</td>\n",
       "    </tr>\n",
       "    <tr>\n",
       "      <th>1</th>\n",
       "      <td>61</td>\n",
       "      <td>Male</td>\n",
       "      <td>B-</td>\n",
       "      <td>NaN</td>\n",
       "      <td>2019-01-09</td>\n",
       "      <td>Medicare</td>\n",
       "      <td>0.000000</td>\n",
       "      <td>Emergency</td>\n",
       "      <td>2019-02-08</td>\n",
       "      <td>Lipitor</td>\n",
       "      <td>Normal</td>\n",
       "    </tr>\n",
       "    <tr>\n",
       "      <th>2</th>\n",
       "      <td>49</td>\n",
       "      <td>Male</td>\n",
       "      <td>B-</td>\n",
       "      <td>Asthma</td>\n",
       "      <td>2020-05-02</td>\n",
       "      <td>Medicare</td>\n",
       "      <td>23303.322092</td>\n",
       "      <td>Urgent</td>\n",
       "      <td>2020-05-03</td>\n",
       "      <td>Penicillin</td>\n",
       "      <td>Abnormal</td>\n",
       "    </tr>\n",
       "    <tr>\n",
       "      <th>3</th>\n",
       "      <td>51</td>\n",
       "      <td>Male</td>\n",
       "      <td>O-</td>\n",
       "      <td>Arthritis</td>\n",
       "      <td>2021-07-09</td>\n",
       "      <td>UnitedHealthcare</td>\n",
       "      <td>-18086.344184</td>\n",
       "      <td>Urgent</td>\n",
       "      <td>2021-08-02</td>\n",
       "      <td>NaN</td>\n",
       "      <td>Normal</td>\n",
       "    </tr>\n",
       "    <tr>\n",
       "      <th>4</th>\n",
       "      <td>41</td>\n",
       "      <td>Male</td>\n",
       "      <td>AB+</td>\n",
       "      <td>Arthritis</td>\n",
       "      <td>2020-08-20</td>\n",
       "      <td>Aetna</td>\n",
       "      <td>22522.363385</td>\n",
       "      <td>Urgent</td>\n",
       "      <td>2020-08-23</td>\n",
       "      <td>Aspirin</td>\n",
       "      <td>Abnormal</td>\n",
       "    </tr>\n",
       "  </tbody>\n",
       "</table>\n",
       "</div>"
      ],
      "text/plain": [
       "   Age Gender Blood Type Medical Condition Date of Admission  \\\n",
       "0   35   Male         O+            Asthma        2023-06-01   \n",
       "1   61   Male         B-               NaN        2019-01-09   \n",
       "2   49   Male         B-            Asthma        2020-05-02   \n",
       "3   51   Male         O-         Arthritis        2021-07-09   \n",
       "4   41   Male        AB+         Arthritis        2020-08-20   \n",
       "\n",
       "  Insurance Provider  Billing Amount Admission Type Discharge Date  \\\n",
       "0   UnitedHealthcare    47304.064845      Emergency     2023-06-15   \n",
       "1           Medicare        0.000000      Emergency     2019-02-08   \n",
       "2           Medicare    23303.322092         Urgent     2020-05-03   \n",
       "3   UnitedHealthcare   -18086.344184         Urgent     2021-08-02   \n",
       "4              Aetna    22522.363385         Urgent     2020-08-23   \n",
       "\n",
       "   Medication Test Results  \n",
       "0     Lipitor       Normal  \n",
       "1     Lipitor       Normal  \n",
       "2  Penicillin     Abnormal  \n",
       "3         NaN       Normal  \n",
       "4     Aspirin     Abnormal  "
      ]
     },
     "execution_count": 12,
     "metadata": {},
     "output_type": "execute_result"
    }
   ],
   "source": [
    "train.drop([\"Name\", \"Hospital\", \"Doctor\", \"Room Number\"],axis=1, inplace=True)\n",
    "train.head()"
   ]
  },
  {
   "cell_type": "markdown",
   "metadata": {},
   "source": [
    "## verifying that Billing Amount lies within the range given in the document"
   ]
  },
  {
   "cell_type": "code",
   "execution_count": 13,
   "metadata": {},
   "outputs": [
    {
     "name": "stdout",
     "output_type": "stream",
     "text": [
      "4\n",
      "6040\n",
      "6\n",
      "6050\n"
     ]
    }
   ],
   "source": [
    "less_than_0 = sum(train[\"Billing Amount\"] < 0)\n",
    "greater_than_0 = sum(train[\"Billing Amount\"] > 0)\n",
    "equal_0 = sum(train[\"Billing Amount\"] == 0)\n",
    "total = less_than_0 + greater_than_0 + equal_0\n",
    "\n",
    "print(less_than_0)\n",
    "print(greater_than_0)\n",
    "print(equal_0)\n",
    "print(total)"
   ]
  },
  {
   "cell_type": "code",
   "execution_count": 14,
   "metadata": {},
   "outputs": [],
   "source": [
    "greater_than_50k = sum(train[\"Billing Amount\"] > 50000)\n"
   ]
  },
  {
   "cell_type": "code",
   "execution_count": 15,
   "metadata": {},
   "outputs": [
    {
     "data": {
      "text/plain": [
       "0"
      ]
     },
     "execution_count": 15,
     "metadata": {},
     "output_type": "execute_result"
    }
   ],
   "source": [
    "less_then_1k_and_greater_than_0 = (train[\"Billing Amount\"] < 1000) & (train[\"Billing Amount\"] > 0)\n",
    "\n",
    "sum(less_then_1k_and_greater_than_0)"
   ]
  },
  {
   "cell_type": "code",
   "execution_count": 16,
   "metadata": {},
   "outputs": [
    {
     "data": {
      "text/plain": [
       "12"
      ]
     },
     "execution_count": 16,
     "metadata": {},
     "output_type": "execute_result"
    }
   ],
   "source": [
    "less_then_1k_and_greater_than_0 = (train[\"Billing Amount\"] < 1000) | (train[\"Billing Amount\"] > 50000)\n",
    "sum(less_then_1k_and_greater_than_0)"
   ]
  },
  {
   "cell_type": "code",
   "execution_count": 17,
   "metadata": {},
   "outputs": [],
   "source": [
    "train['Billing Amount'] = abs(train['Billing Amount'])   \n",
    "train['Billing Amount'] = train['Billing Amount'].apply(lambda x: min(x, 50000))"
   ]
  },
  {
   "cell_type": "code",
   "execution_count": null,
   "metadata": {},
   "outputs": [],
   "source": []
  },
  {
   "cell_type": "code",
   "execution_count": 18,
   "metadata": {},
   "outputs": [
    {
     "data": {
      "text/plain": [
       "Admission Type\n",
       "Urgent       2065\n",
       "Emergency    2011\n",
       "Elective     1974\n",
       "Name: count, dtype: int64"
      ]
     },
     "execution_count": 18,
     "metadata": {},
     "output_type": "execute_result"
    }
   ],
   "source": [
    "train[\"Admission Type\"].value_counts()"
   ]
  },
  {
   "cell_type": "code",
   "execution_count": 19,
   "metadata": {},
   "outputs": [
    {
     "data": {
      "text/html": [
       "<div>\n",
       "<style scoped>\n",
       "    .dataframe tbody tr th:only-of-type {\n",
       "        vertical-align: middle;\n",
       "    }\n",
       "\n",
       "    .dataframe tbody tr th {\n",
       "        vertical-align: top;\n",
       "    }\n",
       "\n",
       "    .dataframe thead th {\n",
       "        text-align: right;\n",
       "    }\n",
       "</style>\n",
       "<table border=\"1\" class=\"dataframe\">\n",
       "  <thead>\n",
       "    <tr style=\"text-align: right;\">\n",
       "      <th></th>\n",
       "      <th>Age</th>\n",
       "      <th>Gender</th>\n",
       "      <th>Blood Type</th>\n",
       "      <th>Medical Condition</th>\n",
       "      <th>Date of Admission</th>\n",
       "      <th>Insurance Provider</th>\n",
       "      <th>Billing Amount</th>\n",
       "      <th>Admission Type</th>\n",
       "      <th>Discharge Date</th>\n",
       "      <th>Medication</th>\n",
       "      <th>Test Results</th>\n",
       "    </tr>\n",
       "  </thead>\n",
       "  <tbody>\n",
       "    <tr>\n",
       "      <th>0</th>\n",
       "      <td>35</td>\n",
       "      <td>Male</td>\n",
       "      <td>O+</td>\n",
       "      <td>Asthma</td>\n",
       "      <td>2023-06-01</td>\n",
       "      <td>UnitedHealthcare</td>\n",
       "      <td>47304.064845</td>\n",
       "      <td>Emergency</td>\n",
       "      <td>2023-06-15</td>\n",
       "      <td>Lipitor</td>\n",
       "      <td>Normal</td>\n",
       "    </tr>\n",
       "    <tr>\n",
       "      <th>2</th>\n",
       "      <td>49</td>\n",
       "      <td>Male</td>\n",
       "      <td>B-</td>\n",
       "      <td>Asthma</td>\n",
       "      <td>2020-05-02</td>\n",
       "      <td>Medicare</td>\n",
       "      <td>23303.322092</td>\n",
       "      <td>Urgent</td>\n",
       "      <td>2020-05-03</td>\n",
       "      <td>Penicillin</td>\n",
       "      <td>Abnormal</td>\n",
       "    </tr>\n",
       "    <tr>\n",
       "      <th>4</th>\n",
       "      <td>41</td>\n",
       "      <td>Male</td>\n",
       "      <td>AB+</td>\n",
       "      <td>Arthritis</td>\n",
       "      <td>2020-08-20</td>\n",
       "      <td>Aetna</td>\n",
       "      <td>22522.363385</td>\n",
       "      <td>Urgent</td>\n",
       "      <td>2020-08-23</td>\n",
       "      <td>Aspirin</td>\n",
       "      <td>Abnormal</td>\n",
       "    </tr>\n",
       "    <tr>\n",
       "      <th>5</th>\n",
       "      <td>82</td>\n",
       "      <td>Male</td>\n",
       "      <td>AB+</td>\n",
       "      <td>Hypertension</td>\n",
       "      <td>2021-03-22</td>\n",
       "      <td>Cigna</td>\n",
       "      <td>39593.435761</td>\n",
       "      <td>Urgent</td>\n",
       "      <td>2021-04-15</td>\n",
       "      <td>Lipitor</td>\n",
       "      <td>Abnormal</td>\n",
       "    </tr>\n",
       "    <tr>\n",
       "      <th>6</th>\n",
       "      <td>55</td>\n",
       "      <td>Female</td>\n",
       "      <td>O-</td>\n",
       "      <td>Arthritis</td>\n",
       "      <td>2019-05-16</td>\n",
       "      <td>Blue Cross</td>\n",
       "      <td>13546.817249</td>\n",
       "      <td>Elective</td>\n",
       "      <td>2019-06-02</td>\n",
       "      <td>Aspirin</td>\n",
       "      <td>Normal</td>\n",
       "    </tr>\n",
       "  </tbody>\n",
       "</table>\n",
       "</div>"
      ],
      "text/plain": [
       "   Age  Gender Blood Type Medical Condition Date of Admission  \\\n",
       "0   35    Male         O+            Asthma        2023-06-01   \n",
       "2   49    Male         B-            Asthma        2020-05-02   \n",
       "4   41    Male        AB+         Arthritis        2020-08-20   \n",
       "5   82    Male        AB+      Hypertension        2021-03-22   \n",
       "6   55  Female         O-         Arthritis        2019-05-16   \n",
       "\n",
       "  Insurance Provider  Billing Amount Admission Type Discharge Date  \\\n",
       "0   UnitedHealthcare    47304.064845      Emergency     2023-06-15   \n",
       "2           Medicare    23303.322092         Urgent     2020-05-03   \n",
       "4              Aetna    22522.363385         Urgent     2020-08-23   \n",
       "5              Cigna    39593.435761         Urgent     2021-04-15   \n",
       "6         Blue Cross    13546.817249       Elective     2019-06-02   \n",
       "\n",
       "   Medication Test Results  \n",
       "0     Lipitor       Normal  \n",
       "2  Penicillin     Abnormal  \n",
       "4     Aspirin     Abnormal  \n",
       "5     Lipitor     Abnormal  \n",
       "6     Aspirin       Normal  "
      ]
     },
     "execution_count": 19,
     "metadata": {},
     "output_type": "execute_result"
    }
   ],
   "source": [
    "train.dropna(axis=0, inplace=True)\n",
    "train.head()"
   ]
  },
  {
   "cell_type": "code",
   "execution_count": 20,
   "metadata": {},
   "outputs": [
    {
     "data": {
      "text/plain": [
       "(6034, 11)"
      ]
     },
     "execution_count": 20,
     "metadata": {},
     "output_type": "execute_result"
    }
   ],
   "source": [
    "train.shape"
   ]
  },
  {
   "cell_type": "code",
   "execution_count": 21,
   "metadata": {},
   "outputs": [],
   "source": [
    "from re import *\n",
    "\n",
    "def get_anomalies(series):\n",
    "    regex = \"\\d{4}-\\d{2}-\\d{2}\"\n",
    "    pattern = compile(regex)\n",
    "    list = []\n",
    "    for cell in series:\n",
    "        stringify_cell = str(cell)\n",
    "        if pattern.match(stringify_cell) == None:\n",
    "            list.append(stringify_cell)\n",
    "        else:\n",
    "            year, month, day = stringify_cell.split(\"-\")\n",
    "            year = int(year)\n",
    "            month = int(month)\n",
    "            day = int(day)\n",
    "            if(year > 2023 or year < 2000):\n",
    "                list.append(stringify_cell)\n",
    "            if(month > 12 or month < 1):\n",
    "                list.append(stringify_cell)\n",
    "            if(day > 31 or day < 1):\n",
    "                list.append(stringify_cell)\n",
    "\n",
    "    return list\n"
   ]
  },
  {
   "cell_type": "code",
   "execution_count": 22,
   "metadata": {},
   "outputs": [
    {
     "data": {
      "text/plain": [
       "[]"
      ]
     },
     "execution_count": 22,
     "metadata": {},
     "output_type": "execute_result"
    }
   ],
   "source": [
    "admission_date_anomalies = get_anomalies(train[\"Date of Admission\"])\n",
    "admission_date_anomalies"
   ]
  },
  {
   "cell_type": "code",
   "execution_count": 23,
   "metadata": {},
   "outputs": [
    {
     "data": {
      "text/plain": [
       "[]"
      ]
     },
     "execution_count": 23,
     "metadata": {},
     "output_type": "execute_result"
    }
   ],
   "source": [
    "discharge_date_anomalies = get_anomalies(train[\"Discharge Date\"])\n",
    "discharge_date_anomalies"
   ]
  },
  {
   "cell_type": "code",
   "execution_count": 24,
   "metadata": {},
   "outputs": [
    {
     "name": "stdout",
     "output_type": "stream",
     "text": [
      "-363\n"
     ]
    }
   ],
   "source": [
    "from datetime import date\n",
    "\n",
    "date_ = date(2022, 3, 3)\n",
    "date_2 = date(2023, 3, 1)\n",
    "print(( date_- date_2 ).days)"
   ]
  },
  {
   "cell_type": "code",
   "execution_count": 25,
   "metadata": {},
   "outputs": [
    {
     "data": {
      "text/html": [
       "<div>\n",
       "<style scoped>\n",
       "    .dataframe tbody tr th:only-of-type {\n",
       "        vertical-align: middle;\n",
       "    }\n",
       "\n",
       "    .dataframe tbody tr th {\n",
       "        vertical-align: top;\n",
       "    }\n",
       "\n",
       "    .dataframe thead th {\n",
       "        text-align: right;\n",
       "    }\n",
       "</style>\n",
       "<table border=\"1\" class=\"dataframe\">\n",
       "  <thead>\n",
       "    <tr style=\"text-align: right;\">\n",
       "      <th></th>\n",
       "      <th>Age</th>\n",
       "      <th>Gender</th>\n",
       "      <th>Blood Type</th>\n",
       "      <th>Medical Condition</th>\n",
       "      <th>Date of Admission</th>\n",
       "      <th>Insurance Provider</th>\n",
       "      <th>Billing Amount</th>\n",
       "      <th>Admission Type</th>\n",
       "      <th>Discharge Date</th>\n",
       "      <th>Medication</th>\n",
       "      <th>Test Results</th>\n",
       "    </tr>\n",
       "  </thead>\n",
       "  <tbody>\n",
       "    <tr>\n",
       "      <th>0</th>\n",
       "      <td>35</td>\n",
       "      <td>Male</td>\n",
       "      <td>O+</td>\n",
       "      <td>Asthma</td>\n",
       "      <td>2023-06-01</td>\n",
       "      <td>UnitedHealthcare</td>\n",
       "      <td>47304.064845</td>\n",
       "      <td>Emergency</td>\n",
       "      <td>2023-06-15</td>\n",
       "      <td>Lipitor</td>\n",
       "      <td>Normal</td>\n",
       "    </tr>\n",
       "    <tr>\n",
       "      <th>2</th>\n",
       "      <td>49</td>\n",
       "      <td>Male</td>\n",
       "      <td>B-</td>\n",
       "      <td>Asthma</td>\n",
       "      <td>2020-05-02</td>\n",
       "      <td>Medicare</td>\n",
       "      <td>23303.322092</td>\n",
       "      <td>Urgent</td>\n",
       "      <td>2020-05-03</td>\n",
       "      <td>Penicillin</td>\n",
       "      <td>Abnormal</td>\n",
       "    </tr>\n",
       "    <tr>\n",
       "      <th>4</th>\n",
       "      <td>41</td>\n",
       "      <td>Male</td>\n",
       "      <td>AB+</td>\n",
       "      <td>Arthritis</td>\n",
       "      <td>2020-08-20</td>\n",
       "      <td>Aetna</td>\n",
       "      <td>22522.363385</td>\n",
       "      <td>Urgent</td>\n",
       "      <td>2020-08-23</td>\n",
       "      <td>Aspirin</td>\n",
       "      <td>Abnormal</td>\n",
       "    </tr>\n",
       "    <tr>\n",
       "      <th>5</th>\n",
       "      <td>82</td>\n",
       "      <td>Male</td>\n",
       "      <td>AB+</td>\n",
       "      <td>Hypertension</td>\n",
       "      <td>2021-03-22</td>\n",
       "      <td>Cigna</td>\n",
       "      <td>39593.435761</td>\n",
       "      <td>Urgent</td>\n",
       "      <td>2021-04-15</td>\n",
       "      <td>Lipitor</td>\n",
       "      <td>Abnormal</td>\n",
       "    </tr>\n",
       "    <tr>\n",
       "      <th>6</th>\n",
       "      <td>55</td>\n",
       "      <td>Female</td>\n",
       "      <td>O-</td>\n",
       "      <td>Arthritis</td>\n",
       "      <td>2019-05-16</td>\n",
       "      <td>Blue Cross</td>\n",
       "      <td>13546.817249</td>\n",
       "      <td>Elective</td>\n",
       "      <td>2019-06-02</td>\n",
       "      <td>Aspirin</td>\n",
       "      <td>Normal</td>\n",
       "    </tr>\n",
       "  </tbody>\n",
       "</table>\n",
       "</div>"
      ],
      "text/plain": [
       "   Age  Gender Blood Type Medical Condition Date of Admission  \\\n",
       "0   35    Male         O+            Asthma        2023-06-01   \n",
       "2   49    Male         B-            Asthma        2020-05-02   \n",
       "4   41    Male        AB+         Arthritis        2020-08-20   \n",
       "5   82    Male        AB+      Hypertension        2021-03-22   \n",
       "6   55  Female         O-         Arthritis        2019-05-16   \n",
       "\n",
       "  Insurance Provider  Billing Amount Admission Type Discharge Date  \\\n",
       "0   UnitedHealthcare    47304.064845      Emergency     2023-06-15   \n",
       "2           Medicare    23303.322092         Urgent     2020-05-03   \n",
       "4              Aetna    22522.363385         Urgent     2020-08-23   \n",
       "5              Cigna    39593.435761         Urgent     2021-04-15   \n",
       "6         Blue Cross    13546.817249       Elective     2019-06-02   \n",
       "\n",
       "   Medication Test Results  \n",
       "0     Lipitor       Normal  \n",
       "2  Penicillin     Abnormal  \n",
       "4     Aspirin     Abnormal  \n",
       "5     Lipitor     Abnormal  \n",
       "6     Aspirin       Normal  "
      ]
     },
     "execution_count": 25,
     "metadata": {},
     "output_type": "execute_result"
    }
   ],
   "source": [
    "train[\"Date of Admission\"] = pd.to_datetime(train[\"Date of Admission\"]) \n",
    "train[\"Discharge Date\"] = pd.to_datetime(train[\"Discharge Date\"]) \n",
    "\n",
    "train.head()\n",
    "\n"
   ]
  },
  {
   "cell_type": "code",
   "execution_count": 26,
   "metadata": {},
   "outputs": [
    {
     "name": "stdout",
     "output_type": "stream",
     "text": [
      "<class 'pandas.core.frame.DataFrame'>\n",
      "Index: 6034 entries, 0 to 6049\n",
      "Data columns (total 11 columns):\n",
      " #   Column              Non-Null Count  Dtype         \n",
      "---  ------              --------------  -----         \n",
      " 0   Age                 6034 non-null   int64         \n",
      " 1   Gender              6034 non-null   object        \n",
      " 2   Blood Type          6034 non-null   object        \n",
      " 3   Medical Condition   6034 non-null   object        \n",
      " 4   Date of Admission   6034 non-null   datetime64[ns]\n",
      " 5   Insurance Provider  6034 non-null   object        \n",
      " 6   Billing Amount      6034 non-null   float64       \n",
      " 7   Admission Type      6034 non-null   object        \n",
      " 8   Discharge Date      6034 non-null   datetime64[ns]\n",
      " 9   Medication          6034 non-null   object        \n",
      " 10  Test Results        6034 non-null   object        \n",
      "dtypes: datetime64[ns](2), float64(1), int64(1), object(7)\n",
      "memory usage: 565.7+ KB\n"
     ]
    }
   ],
   "source": [
    "train.info()"
   ]
  },
  {
   "cell_type": "code",
   "execution_count": 27,
   "metadata": {},
   "outputs": [
    {
     "data": {
      "text/html": [
       "<div>\n",
       "<style scoped>\n",
       "    .dataframe tbody tr th:only-of-type {\n",
       "        vertical-align: middle;\n",
       "    }\n",
       "\n",
       "    .dataframe tbody tr th {\n",
       "        vertical-align: top;\n",
       "    }\n",
       "\n",
       "    .dataframe thead th {\n",
       "        text-align: right;\n",
       "    }\n",
       "</style>\n",
       "<table border=\"1\" class=\"dataframe\">\n",
       "  <thead>\n",
       "    <tr style=\"text-align: right;\">\n",
       "      <th></th>\n",
       "      <th>Age</th>\n",
       "      <th>Gender</th>\n",
       "      <th>Blood Type</th>\n",
       "      <th>Medical Condition</th>\n",
       "      <th>Date of Admission</th>\n",
       "      <th>Insurance Provider</th>\n",
       "      <th>Billing Amount</th>\n",
       "      <th>Admission Type</th>\n",
       "      <th>Discharge Date</th>\n",
       "      <th>Medication</th>\n",
       "      <th>Test Results</th>\n",
       "      <th>Differences</th>\n",
       "    </tr>\n",
       "  </thead>\n",
       "  <tbody>\n",
       "    <tr>\n",
       "      <th>0</th>\n",
       "      <td>35</td>\n",
       "      <td>Male</td>\n",
       "      <td>O+</td>\n",
       "      <td>Asthma</td>\n",
       "      <td>2023-06-01</td>\n",
       "      <td>UnitedHealthcare</td>\n",
       "      <td>47304.064845</td>\n",
       "      <td>Emergency</td>\n",
       "      <td>2023-06-15</td>\n",
       "      <td>Lipitor</td>\n",
       "      <td>Normal</td>\n",
       "      <td>14</td>\n",
       "    </tr>\n",
       "    <tr>\n",
       "      <th>2</th>\n",
       "      <td>49</td>\n",
       "      <td>Male</td>\n",
       "      <td>B-</td>\n",
       "      <td>Asthma</td>\n",
       "      <td>2020-05-02</td>\n",
       "      <td>Medicare</td>\n",
       "      <td>23303.322092</td>\n",
       "      <td>Urgent</td>\n",
       "      <td>2020-05-03</td>\n",
       "      <td>Penicillin</td>\n",
       "      <td>Abnormal</td>\n",
       "      <td>1</td>\n",
       "    </tr>\n",
       "    <tr>\n",
       "      <th>4</th>\n",
       "      <td>41</td>\n",
       "      <td>Male</td>\n",
       "      <td>AB+</td>\n",
       "      <td>Arthritis</td>\n",
       "      <td>2020-08-20</td>\n",
       "      <td>Aetna</td>\n",
       "      <td>22522.363385</td>\n",
       "      <td>Urgent</td>\n",
       "      <td>2020-08-23</td>\n",
       "      <td>Aspirin</td>\n",
       "      <td>Abnormal</td>\n",
       "      <td>3</td>\n",
       "    </tr>\n",
       "    <tr>\n",
       "      <th>5</th>\n",
       "      <td>82</td>\n",
       "      <td>Male</td>\n",
       "      <td>AB+</td>\n",
       "      <td>Hypertension</td>\n",
       "      <td>2021-03-22</td>\n",
       "      <td>Cigna</td>\n",
       "      <td>39593.435761</td>\n",
       "      <td>Urgent</td>\n",
       "      <td>2021-04-15</td>\n",
       "      <td>Lipitor</td>\n",
       "      <td>Abnormal</td>\n",
       "      <td>24</td>\n",
       "    </tr>\n",
       "    <tr>\n",
       "      <th>6</th>\n",
       "      <td>55</td>\n",
       "      <td>Female</td>\n",
       "      <td>O-</td>\n",
       "      <td>Arthritis</td>\n",
       "      <td>2019-05-16</td>\n",
       "      <td>Blue Cross</td>\n",
       "      <td>13546.817249</td>\n",
       "      <td>Elective</td>\n",
       "      <td>2019-06-02</td>\n",
       "      <td>Aspirin</td>\n",
       "      <td>Normal</td>\n",
       "      <td>17</td>\n",
       "    </tr>\n",
       "  </tbody>\n",
       "</table>\n",
       "</div>"
      ],
      "text/plain": [
       "   Age  Gender Blood Type Medical Condition Date of Admission  \\\n",
       "0   35    Male         O+            Asthma        2023-06-01   \n",
       "2   49    Male         B-            Asthma        2020-05-02   \n",
       "4   41    Male        AB+         Arthritis        2020-08-20   \n",
       "5   82    Male        AB+      Hypertension        2021-03-22   \n",
       "6   55  Female         O-         Arthritis        2019-05-16   \n",
       "\n",
       "  Insurance Provider  Billing Amount Admission Type Discharge Date  \\\n",
       "0   UnitedHealthcare    47304.064845      Emergency     2023-06-15   \n",
       "2           Medicare    23303.322092         Urgent     2020-05-03   \n",
       "4              Aetna    22522.363385         Urgent     2020-08-23   \n",
       "5              Cigna    39593.435761         Urgent     2021-04-15   \n",
       "6         Blue Cross    13546.817249       Elective     2019-06-02   \n",
       "\n",
       "   Medication Test Results  Differences  \n",
       "0     Lipitor       Normal           14  \n",
       "2  Penicillin     Abnormal            1  \n",
       "4     Aspirin     Abnormal            3  \n",
       "5     Lipitor     Abnormal           24  \n",
       "6     Aspirin       Normal           17  "
      ]
     },
     "execution_count": 27,
     "metadata": {},
     "output_type": "execute_result"
    }
   ],
   "source": [
    "train[\"Differences\"] = train[\"Discharge Date\"] - train[\"Date of Admission\"]\n",
    "train[\"Differences\"] = train[\"Differences\"].dt.days\n",
    "train.head()"
   ]
  },
  {
   "cell_type": "code",
   "execution_count": 28,
   "metadata": {},
   "outputs": [],
   "source": [
    "train.drop([\"Date of Admission\", \"Discharge Date\"],axis=1, inplace=True)"
   ]
  },
  {
   "cell_type": "code",
   "execution_count": 29,
   "metadata": {},
   "outputs": [
    {
     "data": {
      "text/html": [
       "<div>\n",
       "<style scoped>\n",
       "    .dataframe tbody tr th:only-of-type {\n",
       "        vertical-align: middle;\n",
       "    }\n",
       "\n",
       "    .dataframe tbody tr th {\n",
       "        vertical-align: top;\n",
       "    }\n",
       "\n",
       "    .dataframe thead th {\n",
       "        text-align: right;\n",
       "    }\n",
       "</style>\n",
       "<table border=\"1\" class=\"dataframe\">\n",
       "  <thead>\n",
       "    <tr style=\"text-align: right;\">\n",
       "      <th></th>\n",
       "      <th>Age</th>\n",
       "      <th>Gender</th>\n",
       "      <th>Blood Type</th>\n",
       "      <th>Medical Condition</th>\n",
       "      <th>Insurance Provider</th>\n",
       "      <th>Billing Amount</th>\n",
       "      <th>Admission Type</th>\n",
       "      <th>Medication</th>\n",
       "      <th>Test Results</th>\n",
       "      <th>Differences</th>\n",
       "    </tr>\n",
       "  </thead>\n",
       "  <tbody>\n",
       "    <tr>\n",
       "      <th>0</th>\n",
       "      <td>35</td>\n",
       "      <td>Male</td>\n",
       "      <td>O+</td>\n",
       "      <td>Asthma</td>\n",
       "      <td>UnitedHealthcare</td>\n",
       "      <td>47304.064845</td>\n",
       "      <td>Emergency</td>\n",
       "      <td>Lipitor</td>\n",
       "      <td>Normal</td>\n",
       "      <td>14</td>\n",
       "    </tr>\n",
       "    <tr>\n",
       "      <th>2</th>\n",
       "      <td>49</td>\n",
       "      <td>Male</td>\n",
       "      <td>B-</td>\n",
       "      <td>Asthma</td>\n",
       "      <td>Medicare</td>\n",
       "      <td>23303.322092</td>\n",
       "      <td>Urgent</td>\n",
       "      <td>Penicillin</td>\n",
       "      <td>Abnormal</td>\n",
       "      <td>1</td>\n",
       "    </tr>\n",
       "    <tr>\n",
       "      <th>4</th>\n",
       "      <td>41</td>\n",
       "      <td>Male</td>\n",
       "      <td>AB+</td>\n",
       "      <td>Arthritis</td>\n",
       "      <td>Aetna</td>\n",
       "      <td>22522.363385</td>\n",
       "      <td>Urgent</td>\n",
       "      <td>Aspirin</td>\n",
       "      <td>Abnormal</td>\n",
       "      <td>3</td>\n",
       "    </tr>\n",
       "    <tr>\n",
       "      <th>5</th>\n",
       "      <td>82</td>\n",
       "      <td>Male</td>\n",
       "      <td>AB+</td>\n",
       "      <td>Hypertension</td>\n",
       "      <td>Cigna</td>\n",
       "      <td>39593.435761</td>\n",
       "      <td>Urgent</td>\n",
       "      <td>Lipitor</td>\n",
       "      <td>Abnormal</td>\n",
       "      <td>24</td>\n",
       "    </tr>\n",
       "    <tr>\n",
       "      <th>6</th>\n",
       "      <td>55</td>\n",
       "      <td>Female</td>\n",
       "      <td>O-</td>\n",
       "      <td>Arthritis</td>\n",
       "      <td>Blue Cross</td>\n",
       "      <td>13546.817249</td>\n",
       "      <td>Elective</td>\n",
       "      <td>Aspirin</td>\n",
       "      <td>Normal</td>\n",
       "      <td>17</td>\n",
       "    </tr>\n",
       "  </tbody>\n",
       "</table>\n",
       "</div>"
      ],
      "text/plain": [
       "   Age  Gender Blood Type Medical Condition Insurance Provider  \\\n",
       "0   35    Male         O+            Asthma   UnitedHealthcare   \n",
       "2   49    Male         B-            Asthma           Medicare   \n",
       "4   41    Male        AB+         Arthritis              Aetna   \n",
       "5   82    Male        AB+      Hypertension              Cigna   \n",
       "6   55  Female         O-         Arthritis         Blue Cross   \n",
       "\n",
       "   Billing Amount Admission Type  Medication Test Results  Differences  \n",
       "0    47304.064845      Emergency     Lipitor       Normal           14  \n",
       "2    23303.322092         Urgent  Penicillin     Abnormal            1  \n",
       "4    22522.363385         Urgent     Aspirin     Abnormal            3  \n",
       "5    39593.435761         Urgent     Lipitor     Abnormal           24  \n",
       "6    13546.817249       Elective     Aspirin       Normal           17  "
      ]
     },
     "execution_count": 29,
     "metadata": {},
     "output_type": "execute_result"
    }
   ],
   "source": [
    "train.head()"
   ]
  },
  {
   "cell_type": "code",
   "execution_count": 30,
   "metadata": {},
   "outputs": [
    {
     "name": "stdout",
     "output_type": "stream",
     "text": [
      "<class 'pandas.core.frame.DataFrame'>\n",
      "Index: 6034 entries, 0 to 6049\n",
      "Data columns (total 10 columns):\n",
      " #   Column              Non-Null Count  Dtype  \n",
      "---  ------              --------------  -----  \n",
      " 0   Age                 6034 non-null   int64  \n",
      " 1   Gender              6034 non-null   object \n",
      " 2   Blood Type          6034 non-null   object \n",
      " 3   Medical Condition   6034 non-null   object \n",
      " 4   Insurance Provider  6034 non-null   object \n",
      " 5   Billing Amount      6034 non-null   float64\n",
      " 6   Admission Type      6034 non-null   object \n",
      " 7   Medication          6034 non-null   object \n",
      " 8   Test Results        6034 non-null   object \n",
      " 9   Differences         6034 non-null   int64  \n",
      "dtypes: float64(1), int64(2), object(7)\n",
      "memory usage: 518.5+ KB\n"
     ]
    }
   ],
   "source": [
    "train.info()"
   ]
  },
  {
   "cell_type": "code",
   "execution_count": 31,
   "metadata": {},
   "outputs": [
    {
     "data": {
      "image/png": "[encoded data removed]",
      "text/plain": [
       "<Figure size 640x480 with 1 Axes>"
      ]
     },
     "metadata": {},
     "output_type": "display_data"
    },
    {
     "data": {
      "image/png": "[encoded data removed]",
      "text/plain": [
       "<Figure size 640x480 with 1 Axes>"
      ]
     },
     "metadata": {},
     "output_type": "display_data"
    },
    {
     "data": {
      "image/png": "[encoded data removed]",
      "text/plain": [
       "<Figure size 640x480 with 1 Axes>"
      ]
     },
     "metadata": {},
     "output_type": "display_data"
    }
   ],
   "source": [
    "import seaborn as sns\n",
    "import matplotlib.pyplot as plt\n",
    "\n",
    "numerical_columns = train.select_dtypes(include='number').columns.tolist()\n",
    " \n",
    "for column in numerical_columns:\n",
    "    plt.suptitle(column)\n",
    "    sns.boxplot(train[column])\n",
    "    plt.show()\n",
    "\n"
   ]
  },
  {
   "cell_type": "code",
   "execution_count": 32,
   "metadata": {},
   "outputs": [],
   "source": [
    "train['Billing Amount'] = abs(train['Billing Amount'])   \n",
    "train['Billing Amount'] = train['Billing Amount'].apply(lambda x: min(x, 50000))"
   ]
  },
  {
   "cell_type": "code",
   "execution_count": 33,
   "metadata": {},
   "outputs": [
    {
     "data": {
      "image/png": "[encoded data removed]",
      "text/plain": [
       "<Figure size 640x480 with 1 Axes>"
      ]
     },
     "metadata": {},
     "output_type": "display_data"
    }
   ],
   "source": [
    "plt.suptitle('Billing amount')\n",
    "sns.boxplot(train['Billing Amount'])\n",
    "plt.show()"
   ]
  },
  {
   "cell_type": "code",
   "execution_count": 34,
   "metadata": {},
   "outputs": [],
   "source": [
    "from sklearn.preprocessing import OneHotEncoder, LabelEncoder\n",
    "\n",
    "OH_Encoder = OneHotEncoder()\n",
    "L_Encoder = LabelEncoder()\n",
    "\n"
   ]
  },
  {
   "cell_type": "code",
   "execution_count": 35,
   "metadata": {},
   "outputs": [
    {
     "data": {
      "image/png": "[encoded data removed]",
      "text/plain": [
       "<Figure size 640x480 with 1 Axes>"
      ]
     },
     "metadata": {},
     "output_type": "display_data"
    }
   ],
   "source": [
    "plt.suptitle('Billing amount')\n",
    "sns.boxplot(train['Billing Amount'])\n",
    "plt.show()"
   ]
  },
  {
   "cell_type": "code",
   "execution_count": 36,
   "metadata": {},
   "outputs": [],
   "source": [
    "gender_encoded = {\n",
    "    'Male':1,\n",
    "    'Female':0\n",
    "}\n",
    "\n",
    "Admission_type_encoding = {\n",
    "    'Emergency' : 3,\n",
    "    'Urgent' : 2,\n",
    "    'Elective':1\n",
    "}\n",
    "\n",
    "test_results = {\n",
    "    'Normal' : 1,\n",
    "    'Abnormal' : 0\n",
    "}\n",
    "\n",
    "\n",
    "train.replace(gender_encoded, inplace=True)\n",
    "train.replace(Admission_type_encoding, inplace=True)\n",
    "train.replace(test_results, inplace=True)"
   ]
  },
  {
   "cell_type": "code",
   "execution_count": 37,
   "metadata": {},
   "outputs": [
    {
     "data": {
      "text/html": [
       "<div>\n",
       "<style scoped>\n",
       "    .dataframe tbody tr th:only-of-type {\n",
       "        vertical-align: middle;\n",
       "    }\n",
       "\n",
       "    .dataframe tbody tr th {\n",
       "        vertical-align: top;\n",
       "    }\n",
       "\n",
       "    .dataframe thead th {\n",
       "        text-align: right;\n",
       "    }\n",
       "</style>\n",
       "<table border=\"1\" class=\"dataframe\">\n",
       "  <thead>\n",
       "    <tr style=\"text-align: right;\">\n",
       "      <th></th>\n",
       "      <th>Age</th>\n",
       "      <th>Gender</th>\n",
       "      <th>Blood Type</th>\n",
       "      <th>Medical Condition</th>\n",
       "      <th>Insurance Provider</th>\n",
       "      <th>Billing Amount</th>\n",
       "      <th>Admission Type</th>\n",
       "      <th>Medication</th>\n",
       "      <th>Test Results</th>\n",
       "      <th>Differences</th>\n",
       "    </tr>\n",
       "  </thead>\n",
       "  <tbody>\n",
       "    <tr>\n",
       "      <th>0</th>\n",
       "      <td>35</td>\n",
       "      <td>1</td>\n",
       "      <td>O+</td>\n",
       "      <td>Asthma</td>\n",
       "      <td>UnitedHealthcare</td>\n",
       "      <td>47304.064845</td>\n",
       "      <td>3</td>\n",
       "      <td>Lipitor</td>\n",
       "      <td>1</td>\n",
       "      <td>14</td>\n",
       "    </tr>\n",
       "    <tr>\n",
       "      <th>2</th>\n",
       "      <td>49</td>\n",
       "      <td>1</td>\n",
       "      <td>B-</td>\n",
       "      <td>Asthma</td>\n",
       "      <td>Medicare</td>\n",
       "      <td>23303.322092</td>\n",
       "      <td>2</td>\n",
       "      <td>Penicillin</td>\n",
       "      <td>0</td>\n",
       "      <td>1</td>\n",
       "    </tr>\n",
       "    <tr>\n",
       "      <th>4</th>\n",
       "      <td>41</td>\n",
       "      <td>1</td>\n",
       "      <td>AB+</td>\n",
       "      <td>Arthritis</td>\n",
       "      <td>Aetna</td>\n",
       "      <td>22522.363385</td>\n",
       "      <td>2</td>\n",
       "      <td>Aspirin</td>\n",
       "      <td>0</td>\n",
       "      <td>3</td>\n",
       "    </tr>\n",
       "    <tr>\n",
       "      <th>5</th>\n",
       "      <td>82</td>\n",
       "      <td>1</td>\n",
       "      <td>AB+</td>\n",
       "      <td>Hypertension</td>\n",
       "      <td>Cigna</td>\n",
       "      <td>39593.435761</td>\n",
       "      <td>2</td>\n",
       "      <td>Lipitor</td>\n",
       "      <td>0</td>\n",
       "      <td>24</td>\n",
       "    </tr>\n",
       "    <tr>\n",
       "      <th>6</th>\n",
       "      <td>55</td>\n",
       "      <td>0</td>\n",
       "      <td>O-</td>\n",
       "      <td>Arthritis</td>\n",
       "      <td>Blue Cross</td>\n",
       "      <td>13546.817249</td>\n",
       "      <td>1</td>\n",
       "      <td>Aspirin</td>\n",
       "      <td>1</td>\n",
       "      <td>17</td>\n",
       "    </tr>\n",
       "  </tbody>\n",
       "</table>\n",
       "</div>"
      ],
      "text/plain": [
       "   Age  Gender Blood Type Medical Condition Insurance Provider  \\\n",
       "0   35       1         O+            Asthma   UnitedHealthcare   \n",
       "2   49       1         B-            Asthma           Medicare   \n",
       "4   41       1        AB+         Arthritis              Aetna   \n",
       "5   82       1        AB+      Hypertension              Cigna   \n",
       "6   55       0         O-         Arthritis         Blue Cross   \n",
       "\n",
       "   Billing Amount  Admission Type  Medication  Test Results  Differences  \n",
       "0    47304.064845               3     Lipitor             1           14  \n",
       "2    23303.322092               2  Penicillin             0            1  \n",
       "4    22522.363385               2     Aspirin             0            3  \n",
       "5    39593.435761               2     Lipitor             0           24  \n",
       "6    13546.817249               1     Aspirin             1           17  "
      ]
     },
     "execution_count": 37,
     "metadata": {},
     "output_type": "execute_result"
    }
   ],
   "source": [
    "train.head()"
   ]
  },
  {
   "cell_type": "code",
   "execution_count": 38,
   "metadata": {},
   "outputs": [],
   "source": [
    "# billing amount"
   ]
  },
  {
   "cell_type": "code",
   "execution_count": 39,
   "metadata": {},
   "outputs": [],
   "source": [
    "from sklearn.preprocessing import LabelEncoder\n",
    "\n",
    "\n",
    "cols = ['Blood Type', 'Medical Condition', 'Insurance Provider', 'Medication']"
   ]
  },
  {
   "cell_type": "code",
   "execution_count": 40,
   "metadata": {},
   "outputs": [],
   "source": [
    "LE = LabelEncoder()\n",
    "\n",
    "for column in cols:\n",
    "    train[column] = LE.fit_transform(train[column])"
   ]
  },
  {
   "cell_type": "code",
   "execution_count": 41,
   "metadata": {},
   "outputs": [
    {
     "data": {
      "text/html": [
       "<div>\n",
       "<style scoped>\n",
       "    .dataframe tbody tr th:only-of-type {\n",
       "        vertical-align: middle;\n",
       "    }\n",
       "\n",
       "    .dataframe tbody tr th {\n",
       "        vertical-align: top;\n",
       "    }\n",
       "\n",
       "    .dataframe thead th {\n",
       "        text-align: right;\n",
       "    }\n",
       "</style>\n",
       "<table border=\"1\" class=\"dataframe\">\n",
       "  <thead>\n",
       "    <tr style=\"text-align: right;\">\n",
       "      <th></th>\n",
       "      <th>Age</th>\n",
       "      <th>Gender</th>\n",
       "      <th>Blood Type</th>\n",
       "      <th>Medical Condition</th>\n",
       "      <th>Insurance Provider</th>\n",
       "      <th>Billing Amount</th>\n",
       "      <th>Admission Type</th>\n",
       "      <th>Medication</th>\n",
       "      <th>Test Results</th>\n",
       "      <th>Differences</th>\n",
       "    </tr>\n",
       "  </thead>\n",
       "  <tbody>\n",
       "    <tr>\n",
       "      <th>0</th>\n",
       "      <td>35</td>\n",
       "      <td>1</td>\n",
       "      <td>6</td>\n",
       "      <td>1</td>\n",
       "      <td>4</td>\n",
       "      <td>47304.064845</td>\n",
       "      <td>3</td>\n",
       "      <td>2</td>\n",
       "      <td>1</td>\n",
       "      <td>14</td>\n",
       "    </tr>\n",
       "    <tr>\n",
       "      <th>2</th>\n",
       "      <td>49</td>\n",
       "      <td>1</td>\n",
       "      <td>5</td>\n",
       "      <td>1</td>\n",
       "      <td>3</td>\n",
       "      <td>23303.322092</td>\n",
       "      <td>2</td>\n",
       "      <td>4</td>\n",
       "      <td>0</td>\n",
       "      <td>1</td>\n",
       "    </tr>\n",
       "    <tr>\n",
       "      <th>4</th>\n",
       "      <td>41</td>\n",
       "      <td>1</td>\n",
       "      <td>2</td>\n",
       "      <td>0</td>\n",
       "      <td>0</td>\n",
       "      <td>22522.363385</td>\n",
       "      <td>2</td>\n",
       "      <td>0</td>\n",
       "      <td>0</td>\n",
       "      <td>3</td>\n",
       "    </tr>\n",
       "    <tr>\n",
       "      <th>5</th>\n",
       "      <td>82</td>\n",
       "      <td>1</td>\n",
       "      <td>2</td>\n",
       "      <td>4</td>\n",
       "      <td>2</td>\n",
       "      <td>39593.435761</td>\n",
       "      <td>2</td>\n",
       "      <td>2</td>\n",
       "      <td>0</td>\n",
       "      <td>24</td>\n",
       "    </tr>\n",
       "    <tr>\n",
       "      <th>6</th>\n",
       "      <td>55</td>\n",
       "      <td>0</td>\n",
       "      <td>7</td>\n",
       "      <td>0</td>\n",
       "      <td>1</td>\n",
       "      <td>13546.817249</td>\n",
       "      <td>1</td>\n",
       "      <td>0</td>\n",
       "      <td>1</td>\n",
       "      <td>17</td>\n",
       "    </tr>\n",
       "  </tbody>\n",
       "</table>\n",
       "</div>"
      ],
      "text/plain": [
       "   Age  Gender  Blood Type  Medical Condition  Insurance Provider  \\\n",
       "0   35       1           6                  1                   4   \n",
       "2   49       1           5                  1                   3   \n",
       "4   41       1           2                  0                   0   \n",
       "5   82       1           2                  4                   2   \n",
       "6   55       0           7                  0                   1   \n",
       "\n",
       "   Billing Amount  Admission Type  Medication  Test Results  Differences  \n",
       "0    47304.064845               3           2             1           14  \n",
       "2    23303.322092               2           4             0            1  \n",
       "4    22522.363385               2           0             0            3  \n",
       "5    39593.435761               2           2             0           24  \n",
       "6    13546.817249               1           0             1           17  "
      ]
     },
     "execution_count": 41,
     "metadata": {},
     "output_type": "execute_result"
    }
   ],
   "source": [
    "train.head()"
   ]
  },
  {
   "cell_type": "code",
   "execution_count": 42,
   "metadata": {},
   "outputs": [
    {
     "data": {
      "text/html": [
       "<div>\n",
       "<style scoped>\n",
       "    .dataframe tbody tr th:only-of-type {\n",
       "        vertical-align: middle;\n",
       "    }\n",
       "\n",
       "    .dataframe tbody tr th {\n",
       "        vertical-align: top;\n",
       "    }\n",
       "\n",
       "    .dataframe thead th {\n",
       "        text-align: right;\n",
       "    }\n",
       "</style>\n",
       "<table border=\"1\" class=\"dataframe\">\n",
       "  <thead>\n",
       "    <tr style=\"text-align: right;\">\n",
       "      <th></th>\n",
       "      <th>Age</th>\n",
       "      <th>Gender</th>\n",
       "      <th>Blood Type</th>\n",
       "      <th>Medical Condition</th>\n",
       "      <th>Insurance Provider</th>\n",
       "      <th>Billing Amount</th>\n",
       "      <th>Admission Type</th>\n",
       "      <th>Medication</th>\n",
       "      <th>Test Results</th>\n",
       "      <th>Differences</th>\n",
       "    </tr>\n",
       "  </thead>\n",
       "  <tbody>\n",
       "    <tr>\n",
       "      <th>0</th>\n",
       "      <td>-0.839804</td>\n",
       "      <td>1.007987</td>\n",
       "      <td>1.090455</td>\n",
       "      <td>-0.879951</td>\n",
       "      <td>1.448002</td>\n",
       "      <td>1.551709</td>\n",
       "      <td>1.224142</td>\n",
       "      <td>-0.012241</td>\n",
       "      <td>1</td>\n",
       "      <td>-0.182199</td>\n",
       "    </tr>\n",
       "    <tr>\n",
       "      <th>2</th>\n",
       "      <td>-0.124210</td>\n",
       "      <td>1.007987</td>\n",
       "      <td>0.655484</td>\n",
       "      <td>-0.879951</td>\n",
       "      <td>0.737253</td>\n",
       "      <td>-0.146643</td>\n",
       "      <td>-0.007964</td>\n",
       "      <td>1.394694</td>\n",
       "      <td>0</td>\n",
       "      <td>-1.692670</td>\n",
       "    </tr>\n",
       "    <tr>\n",
       "      <th>4</th>\n",
       "      <td>-0.533121</td>\n",
       "      <td>1.007987</td>\n",
       "      <td>-0.649429</td>\n",
       "      <td>-1.469712</td>\n",
       "      <td>-1.394996</td>\n",
       "      <td>-0.201906</td>\n",
       "      <td>-0.007964</td>\n",
       "      <td>-1.419177</td>\n",
       "      <td>0</td>\n",
       "      <td>-1.460290</td>\n",
       "    </tr>\n",
       "    <tr>\n",
       "      <th>5</th>\n",
       "      <td>1.562548</td>\n",
       "      <td>1.007987</td>\n",
       "      <td>-0.649429</td>\n",
       "      <td>0.889334</td>\n",
       "      <td>0.026503</td>\n",
       "      <td>1.006086</td>\n",
       "      <td>-0.007964</td>\n",
       "      <td>-0.012241</td>\n",
       "      <td>0</td>\n",
       "      <td>0.979702</td>\n",
       "    </tr>\n",
       "    <tr>\n",
       "      <th>6</th>\n",
       "      <td>0.182473</td>\n",
       "      <td>-0.992076</td>\n",
       "      <td>1.525426</td>\n",
       "      <td>-1.469712</td>\n",
       "      <td>-0.684247</td>\n",
       "      <td>-0.837038</td>\n",
       "      <td>-1.240069</td>\n",
       "      <td>-1.419177</td>\n",
       "      <td>1</td>\n",
       "      <td>0.166371</td>\n",
       "    </tr>\n",
       "  </tbody>\n",
       "</table>\n",
       "</div>"
      ],
      "text/plain": [
       "        Age    Gender  Blood Type  Medical Condition  Insurance Provider  \\\n",
       "0 -0.839804  1.007987    1.090455          -0.879951            1.448002   \n",
       "2 -0.124210  1.007987    0.655484          -0.879951            0.737253   \n",
       "4 -0.533121  1.007987   -0.649429          -1.469712           -1.394996   \n",
       "5  1.562548  1.007987   -0.649429           0.889334            0.026503   \n",
       "6  0.182473 -0.992076    1.525426          -1.469712           -0.684247   \n",
       "\n",
       "   Billing Amount  Admission Type  Medication  Test Results  Differences  \n",
       "0        1.551709        1.224142   -0.012241             1    -0.182199  \n",
       "2       -0.146643       -0.007964    1.394694             0    -1.692670  \n",
       "4       -0.201906       -0.007964   -1.419177             0    -1.460290  \n",
       "5        1.006086       -0.007964   -0.012241             0     0.979702  \n",
       "6       -0.837038       -1.240069   -1.419177             1     0.166371  "
      ]
     },
     "execution_count": 42,
     "metadata": {},
     "output_type": "execute_result"
    }
   ],
   "source": [
    "from sklearn.preprocessing import StandardScaler\n",
    "\n",
    "SS = StandardScaler()\n",
    "\n",
    "cols = train.drop(['Test Results'], axis=1).columns\n",
    "\n",
    "for col in cols:\n",
    "    train[[col]] = SS.fit_transform(train[[col]])\n",
    "\n",
    "train.head()\n"
   ]
  },
  {
   "cell_type": "code",
   "execution_count": 43,
   "metadata": {},
   "outputs": [
    {
     "data": {
      "text/html": [
       "<div>\n",
       "<style scoped>\n",
       "    .dataframe tbody tr th:only-of-type {\n",
       "        vertical-align: middle;\n",
       "    }\n",
       "\n",
       "    .dataframe tbody tr th {\n",
       "        vertical-align: top;\n",
       "    }\n",
       "\n",
       "    .dataframe thead th {\n",
       "        text-align: right;\n",
       "    }\n",
       "</style>\n",
       "<table border=\"1\" class=\"dataframe\">\n",
       "  <thead>\n",
       "    <tr style=\"text-align: right;\">\n",
       "      <th></th>\n",
       "      <th>Age</th>\n",
       "      <th>Gender</th>\n",
       "      <th>Blood Type</th>\n",
       "      <th>Medical Condition</th>\n",
       "      <th>Insurance Provider</th>\n",
       "      <th>Billing Amount</th>\n",
       "      <th>Admission Type</th>\n",
       "      <th>Medication</th>\n",
       "      <th>Test Results</th>\n",
       "      <th>Differences</th>\n",
       "    </tr>\n",
       "  </thead>\n",
       "  <tbody>\n",
       "    <tr>\n",
       "      <th>count</th>\n",
       "      <td>6.034000e+03</td>\n",
       "      <td>6.034000e+03</td>\n",
       "      <td>6.034000e+03</td>\n",
       "      <td>6.034000e+03</td>\n",
       "      <td>6.034000e+03</td>\n",
       "      <td>6.034000e+03</td>\n",
       "      <td>6.034000e+03</td>\n",
       "      <td>6.034000e+03</td>\n",
       "      <td>6034.000000</td>\n",
       "      <td>6.034000e+03</td>\n",
       "    </tr>\n",
       "    <tr>\n",
       "      <th>mean</th>\n",
       "      <td>1.106911e-16</td>\n",
       "      <td>-7.889686e-17</td>\n",
       "      <td>7.124268e-17</td>\n",
       "      <td>-1.360088e-16</td>\n",
       "      <td>-5.534556e-17</td>\n",
       "      <td>-2.372794e-16</td>\n",
       "      <td>-7.065390e-18</td>\n",
       "      <td>1.204060e-16</td>\n",
       "      <td>0.487570</td>\n",
       "      <td>1.766348e-17</td>\n",
       "    </tr>\n",
       "    <tr>\n",
       "      <th>std</th>\n",
       "      <td>1.000083e+00</td>\n",
       "      <td>1.000083e+00</td>\n",
       "      <td>1.000083e+00</td>\n",
       "      <td>1.000083e+00</td>\n",
       "      <td>1.000083e+00</td>\n",
       "      <td>1.000083e+00</td>\n",
       "      <td>1.000083e+00</td>\n",
       "      <td>1.000083e+00</td>\n",
       "      <td>0.499887</td>\n",
       "      <td>1.000083e+00</td>\n",
       "    </tr>\n",
       "    <tr>\n",
       "      <th>min</th>\n",
       "      <td>-1.708740e+00</td>\n",
       "      <td>-9.920765e-01</td>\n",
       "      <td>-1.519371e+00</td>\n",
       "      <td>-1.469712e+00</td>\n",
       "      <td>-1.394996e+00</td>\n",
       "      <td>-1.795645e+00</td>\n",
       "      <td>-1.240069e+00</td>\n",
       "      <td>-1.419177e+00</td>\n",
       "      <td>0.000000</td>\n",
       "      <td>-1.692670e+00</td>\n",
       "    </tr>\n",
       "    <tr>\n",
       "      <th>25%</th>\n",
       "      <td>-8.398043e-01</td>\n",
       "      <td>-9.920765e-01</td>\n",
       "      <td>-1.084400e+00</td>\n",
       "      <td>-8.799508e-01</td>\n",
       "      <td>-6.842467e-01</td>\n",
       "      <td>-8.609963e-01</td>\n",
       "      <td>-1.240069e+00</td>\n",
       "      <td>-7.157092e-01</td>\n",
       "      <td>0.000000</td>\n",
       "      <td>-8.793398e-01</td>\n",
       "    </tr>\n",
       "    <tr>\n",
       "      <th>50%</th>\n",
       "      <td>2.913169e-02</td>\n",
       "      <td>-9.920765e-01</td>\n",
       "      <td>-2.144579e-01</td>\n",
       "      <td>-2.901893e-01</td>\n",
       "      <td>2.650293e-02</td>\n",
       "      <td>-2.036317e-02</td>\n",
       "      <td>-7.963558e-03</td>\n",
       "      <td>-1.224132e-02</td>\n",
       "      <td>0.000000</td>\n",
       "      <td>-6.600921e-02</td>\n",
       "    </tr>\n",
       "    <tr>\n",
       "      <th>75%</th>\n",
       "      <td>8.469538e-01</td>\n",
       "      <td>1.007987e+00</td>\n",
       "      <td>6.554842e-01</td>\n",
       "      <td>8.893339e-01</td>\n",
       "      <td>7.372526e-01</td>\n",
       "      <td>8.740900e-01</td>\n",
       "      <td>1.224142e+00</td>\n",
       "      <td>6.912266e-01</td>\n",
       "      <td>1.000000</td>\n",
       "      <td>8.635114e-01</td>\n",
       "    </tr>\n",
       "    <tr>\n",
       "      <th>max</th>\n",
       "      <td>1.715890e+00</td>\n",
       "      <td>1.007987e+00</td>\n",
       "      <td>1.525426e+00</td>\n",
       "      <td>1.479095e+00</td>\n",
       "      <td>1.448002e+00</td>\n",
       "      <td>1.742480e+00</td>\n",
       "      <td>1.224142e+00</td>\n",
       "      <td>1.394694e+00</td>\n",
       "      <td>1.000000</td>\n",
       "      <td>1.676842e+00</td>\n",
       "    </tr>\n",
       "  </tbody>\n",
       "</table>\n",
       "</div>"
      ],
      "text/plain": [
       "                Age        Gender    Blood Type  Medical Condition  \\\n",
       "count  6.034000e+03  6.034000e+03  6.034000e+03       6.034000e+03   \n",
       "mean   1.106911e-16 -7.889686e-17  7.124268e-17      -1.360088e-16   \n",
       "std    1.000083e+00  1.000083e+00  1.000083e+00       1.000083e+00   \n",
       "min   -1.708740e+00 -9.920765e-01 -1.519371e+00      -1.469712e+00   \n",
       "25%   -8.398043e-01 -9.920765e-01 -1.084400e+00      -8.799508e-01   \n",
       "50%    2.913169e-02 -9.920765e-01 -2.144579e-01      -2.901893e-01   \n",
       "75%    8.469538e-01  1.007987e+00  6.554842e-01       8.893339e-01   \n",
       "max    1.715890e+00  1.007987e+00  1.525426e+00       1.479095e+00   \n",
       "\n",
       "       Insurance Provider  Billing Amount  Admission Type    Medication  \\\n",
       "count        6.034000e+03    6.034000e+03    6.034000e+03  6.034000e+03   \n",
       "mean        -5.534556e-17   -2.372794e-16   -7.065390e-18  1.204060e-16   \n",
       "std          1.000083e+00    1.000083e+00    1.000083e+00  1.000083e+00   \n",
       "min         -1.394996e+00   -1.795645e+00   -1.240069e+00 -1.419177e+00   \n",
       "25%         -6.842467e-01   -8.609963e-01   -1.240069e+00 -7.157092e-01   \n",
       "50%          2.650293e-02   -2.036317e-02   -7.963558e-03 -1.224132e-02   \n",
       "75%          7.372526e-01    8.740900e-01    1.224142e+00  6.912266e-01   \n",
       "max          1.448002e+00    1.742480e+00    1.224142e+00  1.394694e+00   \n",
       "\n",
       "       Test Results   Differences  \n",
       "count   6034.000000  6.034000e+03  \n",
       "mean       0.487570  1.766348e-17  \n",
       "std        0.499887  1.000083e+00  \n",
       "min        0.000000 -1.692670e+00  \n",
       "25%        0.000000 -8.793398e-01  \n",
       "50%        0.000000 -6.600921e-02  \n",
       "75%        1.000000  8.635114e-01  \n",
       "max        1.000000  1.676842e+00  "
      ]
     },
     "execution_count": 43,
     "metadata": {},
     "output_type": "execute_result"
    }
   ],
   "source": [
    "train.describe()"
   ]
  },
  {
   "cell_type": "code",
   "execution_count": 44,
   "metadata": {},
   "outputs": [],
   "source": [
    "x_ = train.drop(['Test Results'], axis=1).values\n",
    "y_ = train['Test Results'].values"
   ]
  },
  {
   "cell_type": "code",
   "execution_count": 45,
   "metadata": {},
   "outputs": [
    {
     "name": "stdout",
     "output_type": "stream",
     "text": [
      "Cross-validation scores: [0.52775476 0.51781276 0.49544325 0.53106877 0.54228856]\n",
      "Mean CV score: 0.5228736186507397\n"
     ]
    }
   ],
   "source": [
    "import pandas as pd\n",
    "from sklearn.model_selection import cross_val_score\n",
    "from sklearn.model_selection import cross_val_predict\n",
    "from sklearn.tree import DecisionTreeClassifier\n",
    "\n",
    "model = DecisionTreeClassifier()\n",
    "\n",
    "\n",
    "cv_scores = cross_val_score(model, x_, y_, cv=5, scoring='accuracy')  # You can specify a different scoring metric if needed\n",
    "predictions = cross_val_predict(model, x_, y_, cv=5)\n",
    "# Display the cross-validation scores\n",
    "print(\"Cross-validation scores:\", cv_scores)\n",
    "print(\"Mean CV score:\", cv_scores.mean())"
   ]
  },
  {
   "cell_type": "code",
   "execution_count": 46,
   "metadata": {},
   "outputs": [
    {
     "data": {
      "text/plain": [
       "array([[1658, 1434],\n",
       "       [1461, 1481]], dtype=int64)"
      ]
     },
     "execution_count": 46,
     "metadata": {},
     "output_type": "execute_result"
    }
   ],
   "source": [
    "from sklearn.metrics import confusion_matrix\n",
    "\n",
    "confusion_matrix(y_, predictions)\n",
    "\n",
    "\n"
   ]
  },
  {
   "cell_type": "code",
   "execution_count": 47,
   "metadata": {},
   "outputs": [
    {
     "name": "stdout",
     "output_type": "stream",
     "text": [
      "Cross-validation scores: [0.48964374 0.50869925 0.53521127 0.52029826 0.48590381]\n",
      "Mean CV score: 0.5079512682376573\n"
     ]
    }
   ],
   "source": [
    "from sklearn.linear_model import LogisticRegression\n",
    "\n",
    "model2 = LogisticRegression()\n",
    "\n",
    "cv_scores = cross_val_score(model2, x_, y_, cv=5, scoring='accuracy')  # You can specify a different scoring metric if needed\n",
    "predictions = cross_val_predict(model, x_, y_, cv=5)\n",
    "# Display the cross-validation scores\n",
    "print(\"Cross-validation scores:\", cv_scores)\n",
    "print(\"Mean CV score:\", cv_scores.mean())"
   ]
  }
 ],
 "metadata": {
  "kernelspec": {
   "display_name": "base",
   "language": "python",
   "name": "python3"
  },
  "language_info": {
   "codemirror_mode": {
    "name": "ipython",
    "version": 3
   },
   "file_extension": ".py",
   "mimetype": "text/x-python",
   "name": "python",
   "nbconvert_exporter": "python",
   "pygments_lexer": "ipython3",
   "version": "3.11.4"
  }
 },
 "nbformat": 4,
 "nbformat_minor": 2
}
