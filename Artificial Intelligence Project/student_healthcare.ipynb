{
  "cells": [
    {
      "cell_type": "markdown",
      "metadata": {
        "id": "6fZKLiTvevVN"
      },
      "source": [
        "# Student Healthcare\n",
        "This notebook Predicts the heath condition of a student according to his/her medical data."
      ]
    },
    {
      "cell_type": "code",
      "execution_count": 1,
      "metadata": {
        "id": "we3ha5w3dSs0"
      },
      "outputs": [
        {
          "data": {
            "text/html": [
              "<div>\n",
              "<style scoped>\n",
              "    .dataframe tbody tr th:only-of-type {\n",
              "        vertical-align: middle;\n",
              "    }\n",
              "\n",
              "    .dataframe tbody tr th {\n",
              "        vertical-align: top;\n",
              "    }\n",
              "\n",
              "    .dataframe thead th {\n",
              "        text-align: right;\n",
              "    }\n",
              "</style>\n",
              "<table border=\"1\" class=\"dataframe\">\n",
              "  <thead>\n",
              "    <tr style=\"text-align: right;\">\n",
              "      <th></th>\n",
              "      <th>Name</th>\n",
              "      <th>Age</th>\n",
              "      <th>Gender</th>\n",
              "      <th>Blood Type</th>\n",
              "      <th>Medical Condition</th>\n",
              "      <th>Date of Admission</th>\n",
              "      <th>Doctor</th>\n",
              "      <th>Hospital</th>\n",
              "      <th>Insurance Provider</th>\n",
              "      <th>Billing Amount</th>\n",
              "      <th>Room Number</th>\n",
              "      <th>Admission Type</th>\n",
              "      <th>Discharge Date</th>\n",
              "      <th>Medication</th>\n",
              "      <th>Test Results</th>\n",
              "    </tr>\n",
              "  </thead>\n",
              "  <tbody>\n",
              "    <tr>\n",
              "      <th>0</th>\n",
              "      <td>Ruben Burns</td>\n",
              "      <td>35</td>\n",
              "      <td>Male</td>\n",
              "      <td>O+</td>\n",
              "      <td>Asthma</td>\n",
              "      <td>2023-06-01</td>\n",
              "      <td>Diane Jackson</td>\n",
              "      <td>Burke, Griffin and Cooper</td>\n",
              "      <td>UnitedHealthcare</td>\n",
              "      <td>47304.064845</td>\n",
              "      <td>404</td>\n",
              "      <td>Emergency</td>\n",
              "      <td>2023-06-15</td>\n",
              "      <td>Lipitor</td>\n",
              "      <td>Normal</td>\n",
              "    </tr>\n",
              "    <tr>\n",
              "      <th>1</th>\n",
              "      <td>Chad Byrd</td>\n",
              "      <td>61</td>\n",
              "      <td>Male</td>\n",
              "      <td>B-</td>\n",
              "      <td>NaN</td>\n",
              "      <td>2019-01-09</td>\n",
              "      <td>Paul Baker</td>\n",
              "      <td>Walton LLC</td>\n",
              "      <td>Medicare</td>\n",
              "      <td>0.000000</td>\n",
              "      <td>292</td>\n",
              "      <td>Emergency</td>\n",
              "      <td>2019-02-08</td>\n",
              "      <td>Lipitor</td>\n",
              "      <td>Normal</td>\n",
              "    </tr>\n",
              "    <tr>\n",
              "      <th>2</th>\n",
              "      <td>Antonio Frederick</td>\n",
              "      <td>49</td>\n",
              "      <td>Male</td>\n",
              "      <td>B-</td>\n",
              "      <td>Asthma</td>\n",
              "      <td>2020-05-02</td>\n",
              "      <td>Brian Chandler</td>\n",
              "      <td>Garcia Ltd</td>\n",
              "      <td>Medicare</td>\n",
              "      <td>23303.322092</td>\n",
              "      <td>-480</td>\n",
              "      <td>Urgent</td>\n",
              "      <td>2020-05-03</td>\n",
              "      <td>Penicillin</td>\n",
              "      <td>Abnormal</td>\n",
              "    </tr>\n",
              "    <tr>\n",
              "      <th>3</th>\n",
              "      <td>Mrs. Brandy Flowers</td>\n",
              "      <td>51</td>\n",
              "      <td>Male</td>\n",
              "      <td>O-</td>\n",
              "      <td>Arthritis</td>\n",
              "      <td>2021-07-09</td>\n",
              "      <td>Dustin Griffin</td>\n",
              "      <td>Jones, Brown and Murray</td>\n",
              "      <td>UnitedHealthcare</td>\n",
              "      <td>-18086.344184</td>\n",
              "      <td>477</td>\n",
              "      <td>Urgent</td>\n",
              "      <td>2021-08-02</td>\n",
              "      <td>NaN</td>\n",
              "      <td>Normal</td>\n",
              "    </tr>\n",
              "    <tr>\n",
              "      <th>4</th>\n",
              "      <td>Patrick Parker</td>\n",
              "      <td>41</td>\n",
              "      <td>Male</td>\n",
              "      <td>AB+</td>\n",
              "      <td>Arthritis</td>\n",
              "      <td>2020-08-20</td>\n",
              "      <td>Robin Green</td>\n",
              "      <td>Boyd PLC</td>\n",
              "      <td>Aetna</td>\n",
              "      <td>22522.363385</td>\n",
              "      <td>180</td>\n",
              "      <td>Urgent</td>\n",
              "      <td>2020-08-23</td>\n",
              "      <td>Aspirin</td>\n",
              "      <td>Abnormal</td>\n",
              "    </tr>\n",
              "  </tbody>\n",
              "</table>\n",
              "</div>"
            ],
            "text/plain": [
              "                  Name  Age Gender Blood Type Medical Condition  \\\n",
              "0          Ruben Burns   35   Male         O+            Asthma   \n",
              "1            Chad Byrd   61   Male         B-               NaN   \n",
              "2    Antonio Frederick   49   Male         B-            Asthma   \n",
              "3  Mrs. Brandy Flowers   51   Male         O-         Arthritis   \n",
              "4       Patrick Parker   41   Male        AB+         Arthritis   \n",
              "\n",
              "  Date of Admission          Doctor                   Hospital  \\\n",
              "0        2023-06-01   Diane Jackson  Burke, Griffin and Cooper   \n",
              "1        2019-01-09      Paul Baker                 Walton LLC   \n",
              "2        2020-05-02  Brian Chandler                 Garcia Ltd   \n",
              "3        2021-07-09  Dustin Griffin    Jones, Brown and Murray   \n",
              "4        2020-08-20     Robin Green                   Boyd PLC   \n",
              "\n",
              "  Insurance Provider  Billing Amount  Room Number Admission Type  \\\n",
              "0   UnitedHealthcare    47304.064845          404      Emergency   \n",
              "1           Medicare        0.000000          292      Emergency   \n",
              "2           Medicare    23303.322092         -480         Urgent   \n",
              "3   UnitedHealthcare   -18086.344184          477         Urgent   \n",
              "4              Aetna    22522.363385          180         Urgent   \n",
              "\n",
              "  Discharge Date  Medication Test Results  \n",
              "0     2023-06-15     Lipitor       Normal  \n",
              "1     2019-02-08     Lipitor       Normal  \n",
              "2     2020-05-03  Penicillin     Abnormal  \n",
              "3     2021-08-02         NaN       Normal  \n",
              "4     2020-08-23     Aspirin     Abnormal  "
            ]
          },
          "execution_count": 1,
          "metadata": {},
          "output_type": "execute_result"
        }
      ],
      "source": [
        "import pandas as pd\n",
        "import numpy as np\n",
        "\n",
        "train = pd.read_excel(\"student_helthcare_dataset_train.xlsx\")\n",
        "test = pd.read_excel(\"student_helthcare_dataset_test.xlsx\")\n",
        "columns = train.columns\n",
        "\n",
        "train.head()"
      ]
    },
    {
      "cell_type": "markdown",
      "metadata": {
        "id": "1HTjG-kHhDn1"
      },
      "source": [
        "# Data Exploration"
      ]
    },
    {
      "cell_type": "code",
      "execution_count": 2,
      "metadata": {
        "id": "XrHvG5vCfwMN"
      },
      "outputs": [
        {
          "data": {
            "text/html": [
              "<div>\n",
              "<style scoped>\n",
              "    .dataframe tbody tr th:only-of-type {\n",
              "        vertical-align: middle;\n",
              "    }\n",
              "\n",
              "    .dataframe tbody tr th {\n",
              "        vertical-align: top;\n",
              "    }\n",
              "\n",
              "    .dataframe thead th {\n",
              "        text-align: right;\n",
              "    }\n",
              "</style>\n",
              "<table border=\"1\" class=\"dataframe\">\n",
              "  <thead>\n",
              "    <tr style=\"text-align: right;\">\n",
              "      <th></th>\n",
              "      <th>Age</th>\n",
              "      <th>Billing Amount</th>\n",
              "      <th>Room Number</th>\n",
              "    </tr>\n",
              "  </thead>\n",
              "  <tbody>\n",
              "    <tr>\n",
              "      <th>count</th>\n",
              "      <td>6050.00</td>\n",
              "      <td>6050.00</td>\n",
              "      <td>6050.00</td>\n",
              "    </tr>\n",
              "    <tr>\n",
              "      <th>mean</th>\n",
              "      <td>51.43</td>\n",
              "      <td>21587.14</td>\n",
              "      <td>300.27</td>\n",
              "    </tr>\n",
              "    <tr>\n",
              "      <th>std</th>\n",
              "      <td>19.55</td>\n",
              "      <td>294099.35</td>\n",
              "      <td>118.03</td>\n",
              "    </tr>\n",
              "    <tr>\n",
              "      <th>min</th>\n",
              "      <td>18.00</td>\n",
              "      <td>-22822979.21</td>\n",
              "      <td>-492.00</td>\n",
              "    </tr>\n",
              "    <tr>\n",
              "      <th>25%</th>\n",
              "      <td>35.00</td>\n",
              "      <td>13172.40</td>\n",
              "      <td>198.00</td>\n",
              "    </tr>\n",
              "    <tr>\n",
              "      <th>50%</th>\n",
              "      <td>52.00</td>\n",
              "      <td>25073.42</td>\n",
              "      <td>300.50</td>\n",
              "    </tr>\n",
              "    <tr>\n",
              "      <th>75%</th>\n",
              "      <td>68.00</td>\n",
              "      <td>37712.03</td>\n",
              "      <td>402.00</td>\n",
              "    </tr>\n",
              "    <tr>\n",
              "      <th>max</th>\n",
              "      <td>85.00</td>\n",
              "      <td>142610.70</td>\n",
              "      <td>500.00</td>\n",
              "    </tr>\n",
              "  </tbody>\n",
              "</table>\n",
              "</div>"
            ],
            "text/plain": [
              "           Age  Billing Amount  Room Number\n",
              "count  6050.00         6050.00      6050.00\n",
              "mean     51.43        21587.14       300.27\n",
              "std      19.55       294099.35       118.03\n",
              "min      18.00    -22822979.21      -492.00\n",
              "25%      35.00        13172.40       198.00\n",
              "50%      52.00        25073.42       300.50\n",
              "75%      68.00        37712.03       402.00\n",
              "max      85.00       142610.70       500.00"
            ]
          },
          "execution_count": 2,
          "metadata": {},
          "output_type": "execute_result"
        }
      ],
      "source": [
        "train.describe().round(2)"
      ]
    },
    {
      "cell_type": "code",
      "execution_count": 3,
      "metadata": {
        "id": "MbznHTb2hVO0"
      },
      "outputs": [
        {
          "name": "stdout",
          "output_type": "stream",
          "text": [
            "<class 'pandas.core.frame.DataFrame'>\n",
            "RangeIndex: 6050 entries, 0 to 6049\n",
            "Data columns (total 15 columns):\n",
            " #   Column              Non-Null Count  Dtype  \n",
            "---  ------              --------------  -----  \n",
            " 0   Name                6050 non-null   object \n",
            " 1   Age                 6050 non-null   int64  \n",
            " 2   Gender              6050 non-null   object \n",
            " 3   Blood Type          6050 non-null   object \n",
            " 4   Medical Condition   6041 non-null   object \n",
            " 5   Date of Admission   6050 non-null   object \n",
            " 6   Doctor              6050 non-null   object \n",
            " 7   Hospital            6050 non-null   object \n",
            " 8   Insurance Provider  6050 non-null   object \n",
            " 9   Billing Amount      6050 non-null   float64\n",
            " 10  Room Number         6050 non-null   int64  \n",
            " 11  Admission Type      6050 non-null   object \n",
            " 12  Discharge Date      6050 non-null   object \n",
            " 13  Medication          6042 non-null   object \n",
            " 14  Test Results        6050 non-null   object \n",
            "dtypes: float64(1), int64(2), object(12)\n",
            "memory usage: 709.1+ KB\n"
          ]
        }
      ],
      "source": [
        "train.info()"
      ]
    },
    {
      "cell_type": "code",
      "execution_count": 4,
      "metadata": {
        "id": "OmFERHm9dSs5"
      },
      "outputs": [
        {
          "data": {
            "text/plain": [
              "Doctor\n",
              "James Williams       4\n",
              "James Perez          4\n",
              "Michael Smith        4\n",
              "Christopher Davis    4\n",
              "Robert Brown         3\n",
              "                    ..\n",
              "Angela Evans DDS     1\n",
              "Juan Reyes           1\n",
              "Gregory Delgado      1\n",
              "Mary Banks MD        1\n",
              "Dean Dalton          1\n",
              "Name: count, Length: 5825, dtype: int64"
            ]
          },
          "execution_count": 4,
          "metadata": {},
          "output_type": "execute_result"
        }
      ],
      "source": [
        "train[\"Doctor\"].value_counts()"
      ]
    },
    {
      "cell_type": "code",
      "execution_count": 5,
      "metadata": {
        "id": "AfMZxG2_dSs5"
      },
      "outputs": [
        {
          "data": {
            "text/plain": [
              "Hospital\n",
              "Smith and Sons                12\n",
              "Smith PLC                     11\n",
              "Smith Inc                     10\n",
              "Johnson PLC                    9\n",
              "Johnson Group                  8\n",
              "                              ..\n",
              "Clayton, Anderson and Ho       1\n",
              "Ford, Vincent and Robinson     1\n",
              "Harris-Rivera                  1\n",
              "Aguilar, Hubbard and Glenn     1\n",
              "Cooper and Sons                1\n",
              "Name: count, Length: 5425, dtype: int64"
            ]
          },
          "execution_count": 5,
          "metadata": {},
          "output_type": "execute_result"
        }
      ],
      "source": [
        "train[\"Hospital\"].value_counts()"
      ]
    },
    {
      "cell_type": "code",
      "execution_count": 6,
      "metadata": {
        "id": "fc-veOs-j9G-"
      },
      "outputs": [
        {
          "data": {
            "text/plain": [
              "Admission Type\n",
              "Urgent       2065\n",
              "Emergency    2011\n",
              "Elective     1974\n",
              "Name: count, dtype: int64"
            ]
          },
          "execution_count": 6,
          "metadata": {},
          "output_type": "execute_result"
        }
      ],
      "source": [
        "train[\"Admission Type\"].value_counts()"
      ]
    },
    {
      "cell_type": "code",
      "execution_count": 7,
      "metadata": {
        "id": "qmI1UnlNdSs5"
      },
      "outputs": [
        {
          "data": {
            "text/plain": [
              "Medical Condition\n",
              "Cancer          1048\n",
              "Asthma          1043\n",
              "Hypertension    1022\n",
              "Obesity          982\n",
              "Arthritis        975\n",
              "Diabetes         971\n",
              "Name: count, dtype: int64"
            ]
          },
          "execution_count": 7,
          "metadata": {},
          "output_type": "execute_result"
        }
      ],
      "source": [
        "train[\"Medical Condition\"].value_counts()"
      ]
    },
    {
      "cell_type": "code",
      "execution_count": 8,
      "metadata": {
        "id": "OSXsUSuidSs6"
      },
      "outputs": [
        {
          "data": {
            "text/plain": [
              "Insurance Provider\n",
              "Cigna               1266\n",
              "Aetna               1241\n",
              "Blue Cross          1225\n",
              "Medicare            1160\n",
              "UnitedHealthcare    1158\n",
              "Name: count, dtype: int64"
            ]
          },
          "execution_count": 8,
          "metadata": {},
          "output_type": "execute_result"
        }
      ],
      "source": [
        "train[\"Insurance Provider\"].value_counts()"
      ]
    },
    {
      "cell_type": "code",
      "execution_count": 9,
      "metadata": {
        "id": "jZHwcWJ2dSs6"
      },
      "outputs": [
        {
          "data": {
            "text/plain": [
              "Medication\n",
              "Penicillin     1258\n",
              "Ibuprofen      1210\n",
              "Aspirin        1195\n",
              "Lipitor        1192\n",
              "Paracetamol    1187\n",
              "Name: count, dtype: int64"
            ]
          },
          "execution_count": 9,
          "metadata": {},
          "output_type": "execute_result"
        }
      ],
      "source": [
        "train[\"Medication\"].value_counts()"
      ]
    },
    {
      "cell_type": "code",
      "execution_count": 10,
      "metadata": {
        "id": "kec2bVT_dSs6"
      },
      "outputs": [
        {
          "data": {
            "text/plain": [
              "Blood Type\n",
              "A-     776\n",
              "O-     769\n",
              "B-     767\n",
              "AB-    764\n",
              "A+     761\n",
              "AB+    751\n",
              "O+     738\n",
              "B+     724\n",
              "Name: count, dtype: int64"
            ]
          },
          "execution_count": 10,
          "metadata": {},
          "output_type": "execute_result"
        }
      ],
      "source": [
        "train[\"Blood Type\"].value_counts()"
      ]
    },
    {
      "cell_type": "code",
      "execution_count": 11,
      "metadata": {
        "id": "6v15LWTZdSs6"
      },
      "outputs": [
        {
          "name": "stdout",
          "output_type": "stream",
          "text": [
            "Unique values:\n",
            "\tName:  5798\n",
            "\tAge:  68\n",
            "\tGender:  2\n",
            "\tBlood Type:  8\n",
            "\tMedical Condition:  7\n",
            "\tDate of Admission:  1756\n",
            "\tDoctor:  5825\n",
            "\tHospital:  5425\n",
            "\tInsurance Provider:  5\n",
            "\tBilling Amount:  6044\n",
            "\tRoom Number:  405\n",
            "\tAdmission Type:  3\n",
            "\tDischarge Date:  1768\n",
            "\tMedication:  6\n",
            "\tTest Results:  2\n"
          ]
        }
      ],
      "source": [
        "print(\"Unique values:\")\n",
        "for column in columns:\n",
        "    num_of_unique_values = len(train[column].unique())\n",
        "    print(f\"\\t{column}: \",num_of_unique_values)"
      ]
    },
    {
      "cell_type": "markdown",
      "metadata": {
        "id": "fHNvhENdhobE"
      },
      "source": [
        "# Data Preprocessing"
      ]
    },
    {
      "cell_type": "markdown",
      "metadata": {
        "id": "Tghl-S7WdSs7"
      },
      "source": [
        "### Dropping unnecessary columns\n",
        "* Names of patients, and their rooms wouldn't be helpful to our model\n",
        "* Hospital, and Doctor would be useful but they contain too many unique values, which is hard to encode"
      ]
    },
    {
      "cell_type": "code",
      "execution_count": 12,
      "metadata": {
        "id": "CSoSV4WEdSs-"
      },
      "outputs": [
        {
          "data": {
            "text/html": [
              "<div>\n",
              "<style scoped>\n",
              "    .dataframe tbody tr th:only-of-type {\n",
              "        vertical-align: middle;\n",
              "    }\n",
              "\n",
              "    .dataframe tbody tr th {\n",
              "        vertical-align: top;\n",
              "    }\n",
              "\n",
              "    .dataframe thead th {\n",
              "        text-align: right;\n",
              "    }\n",
              "</style>\n",
              "<table border=\"1\" class=\"dataframe\">\n",
              "  <thead>\n",
              "    <tr style=\"text-align: right;\">\n",
              "      <th></th>\n",
              "      <th>Age</th>\n",
              "      <th>Gender</th>\n",
              "      <th>Blood Type</th>\n",
              "      <th>Medical Condition</th>\n",
              "      <th>Date of Admission</th>\n",
              "      <th>Insurance Provider</th>\n",
              "      <th>Billing Amount</th>\n",
              "      <th>Admission Type</th>\n",
              "      <th>Discharge Date</th>\n",
              "      <th>Medication</th>\n",
              "      <th>Test Results</th>\n",
              "    </tr>\n",
              "  </thead>\n",
              "  <tbody>\n",
              "    <tr>\n",
              "      <th>0</th>\n",
              "      <td>35</td>\n",
              "      <td>Male</td>\n",
              "      <td>O+</td>\n",
              "      <td>Asthma</td>\n",
              "      <td>2023-06-01</td>\n",
              "      <td>UnitedHealthcare</td>\n",
              "      <td>47304.064845</td>\n",
              "      <td>Emergency</td>\n",
              "      <td>2023-06-15</td>\n",
              "      <td>Lipitor</td>\n",
              "      <td>Normal</td>\n",
              "    </tr>\n",
              "    <tr>\n",
              "      <th>1</th>\n",
              "      <td>61</td>\n",
              "      <td>Male</td>\n",
              "      <td>B-</td>\n",
              "      <td>NaN</td>\n",
              "      <td>2019-01-09</td>\n",
              "      <td>Medicare</td>\n",
              "      <td>0.000000</td>\n",
              "      <td>Emergency</td>\n",
              "      <td>2019-02-08</td>\n",
              "      <td>Lipitor</td>\n",
              "      <td>Normal</td>\n",
              "    </tr>\n",
              "    <tr>\n",
              "      <th>2</th>\n",
              "      <td>49</td>\n",
              "      <td>Male</td>\n",
              "      <td>B-</td>\n",
              "      <td>Asthma</td>\n",
              "      <td>2020-05-02</td>\n",
              "      <td>Medicare</td>\n",
              "      <td>23303.322092</td>\n",
              "      <td>Urgent</td>\n",
              "      <td>2020-05-03</td>\n",
              "      <td>Penicillin</td>\n",
              "      <td>Abnormal</td>\n",
              "    </tr>\n",
              "    <tr>\n",
              "      <th>3</th>\n",
              "      <td>51</td>\n",
              "      <td>Male</td>\n",
              "      <td>O-</td>\n",
              "      <td>Arthritis</td>\n",
              "      <td>2021-07-09</td>\n",
              "      <td>UnitedHealthcare</td>\n",
              "      <td>-18086.344184</td>\n",
              "      <td>Urgent</td>\n",
              "      <td>2021-08-02</td>\n",
              "      <td>NaN</td>\n",
              "      <td>Normal</td>\n",
              "    </tr>\n",
              "    <tr>\n",
              "      <th>4</th>\n",
              "      <td>41</td>\n",
              "      <td>Male</td>\n",
              "      <td>AB+</td>\n",
              "      <td>Arthritis</td>\n",
              "      <td>2020-08-20</td>\n",
              "      <td>Aetna</td>\n",
              "      <td>22522.363385</td>\n",
              "      <td>Urgent</td>\n",
              "      <td>2020-08-23</td>\n",
              "      <td>Aspirin</td>\n",
              "      <td>Abnormal</td>\n",
              "    </tr>\n",
              "  </tbody>\n",
              "</table>\n",
              "</div>"
            ],
            "text/plain": [
              "   Age Gender Blood Type Medical Condition Date of Admission  \\\n",
              "0   35   Male         O+            Asthma        2023-06-01   \n",
              "1   61   Male         B-               NaN        2019-01-09   \n",
              "2   49   Male         B-            Asthma        2020-05-02   \n",
              "3   51   Male         O-         Arthritis        2021-07-09   \n",
              "4   41   Male        AB+         Arthritis        2020-08-20   \n",
              "\n",
              "  Insurance Provider  Billing Amount Admission Type Discharge Date  \\\n",
              "0   UnitedHealthcare    47304.064845      Emergency     2023-06-15   \n",
              "1           Medicare        0.000000      Emergency     2019-02-08   \n",
              "2           Medicare    23303.322092         Urgent     2020-05-03   \n",
              "3   UnitedHealthcare   -18086.344184         Urgent     2021-08-02   \n",
              "4              Aetna    22522.363385         Urgent     2020-08-23   \n",
              "\n",
              "   Medication Test Results  \n",
              "0     Lipitor       Normal  \n",
              "1     Lipitor       Normal  \n",
              "2  Penicillin     Abnormal  \n",
              "3         NaN       Normal  \n",
              "4     Aspirin     Abnormal  "
            ]
          },
          "execution_count": 12,
          "metadata": {},
          "output_type": "execute_result"
        }
      ],
      "source": [
        "train.drop([\"Name\", \"Hospital\", \"Doctor\", \"Room Number\"],axis=1, inplace=True)\n",
        "train.head()\n",
        "\n"
      ]
    },
    {
      "cell_type": "markdown",
      "metadata": {
        "id": "yEFgrbhldSs-"
      },
      "source": [
        "### Ensuring \"Billing Amount\" lies within the range given in the document"
      ]
    },
    {
      "cell_type": "code",
      "execution_count": 13,
      "metadata": {
        "id": "RztbazcsdSs-"
      },
      "outputs": [
        {
          "name": "stdout",
          "output_type": "stream",
          "text": [
            "Negative:  4\n",
            "Zero:  6\n",
            "Positive:  6040\n",
            "Greater than 50000:  2\n",
            "Between 0 & 1000:  0\n"
          ]
        }
      ],
      "source": [
        "# Explore how many are out of boundary\n",
        "print(\"Negative: \", sum(train[\"Billing Amount\"] < 0))\n",
        "print(\"Zero: \", sum(train[\"Billing Amount\"] == 0))\n",
        "print(\"Positive: \", sum(train[\"Billing Amount\"] > 0))\n",
        "print(\"Greater than 50000: \", sum(train[\"Billing Amount\"] > 50000))\n",
        "print(\"Between 0 & 1000: \", sum((train[\"Billing Amount\"] > 0) & (train[\"Billing Amount\"] < 1000)))"
      ]
    },
    {
      "cell_type": "code",
      "execution_count": 14,
      "metadata": {
        "id": "5iphxDUKdSs_"
      },
      "outputs": [],
      "source": [
        "# Cuttoff them to the determined boundaries\n",
        "train['Billing Amount'] = abs(train['Billing Amount'])\n",
        "train['Billing Amount'] = train['Billing Amount'].apply(lambda x: min(x, 50000))"
      ]
    },
    {
      "cell_type": "code",
      "execution_count": 15,
      "metadata": {
        "id": "AZgvndKTA_Qi"
      },
      "outputs": [
        {
          "data": {
            "text/plain": [
              "array([[<Axes: title={'center': 'Age'}>,\n",
              "        <Axes: title={'center': 'Billing Amount'}>]], dtype=object)"
            ]
          },
          "execution_count": 15,
          "metadata": {},
          "output_type": "execute_result"
        },
        {
          "data": {
            "image/png": "[encoded data removed]",
            "text/plain": [
              "<Figure size 640x480 with 2 Axes>"
            ]
          },
          "metadata": {},
          "output_type": "display_data"
        }
      ],
      "source": [
        "train.hist()"
      ]
    },
    {
      "cell_type": "markdown",
      "metadata": {
        "id": "fX9wZYsdmBzE"
      },
      "source": [
        "### Dealing with NULL values"
      ]
    },
    {
      "cell_type": "code",
      "execution_count": 16,
      "metadata": {
        "id": "MBfxj7UddSs_"
      },
      "outputs": [
        {
          "data": {
            "text/html": [
              "<div>\n",
              "<style scoped>\n",
              "    .dataframe tbody tr th:only-of-type {\n",
              "        vertical-align: middle;\n",
              "    }\n",
              "\n",
              "    .dataframe tbody tr th {\n",
              "        vertical-align: top;\n",
              "    }\n",
              "\n",
              "    .dataframe thead th {\n",
              "        text-align: right;\n",
              "    }\n",
              "</style>\n",
              "<table border=\"1\" class=\"dataframe\">\n",
              "  <thead>\n",
              "    <tr style=\"text-align: right;\">\n",
              "      <th></th>\n",
              "      <th>Age</th>\n",
              "      <th>Gender</th>\n",
              "      <th>Blood Type</th>\n",
              "      <th>Medical Condition</th>\n",
              "      <th>Date of Admission</th>\n",
              "      <th>Insurance Provider</th>\n",
              "      <th>Billing Amount</th>\n",
              "      <th>Admission Type</th>\n",
              "      <th>Discharge Date</th>\n",
              "      <th>Medication</th>\n",
              "      <th>Test Results</th>\n",
              "    </tr>\n",
              "  </thead>\n",
              "  <tbody>\n",
              "    <tr>\n",
              "      <th>0</th>\n",
              "      <td>35</td>\n",
              "      <td>Male</td>\n",
              "      <td>O+</td>\n",
              "      <td>Asthma</td>\n",
              "      <td>2023-06-01</td>\n",
              "      <td>UnitedHealthcare</td>\n",
              "      <td>47304.064845</td>\n",
              "      <td>Emergency</td>\n",
              "      <td>2023-06-15</td>\n",
              "      <td>Lipitor</td>\n",
              "      <td>Normal</td>\n",
              "    </tr>\n",
              "    <tr>\n",
              "      <th>2</th>\n",
              "      <td>49</td>\n",
              "      <td>Male</td>\n",
              "      <td>B-</td>\n",
              "      <td>Asthma</td>\n",
              "      <td>2020-05-02</td>\n",
              "      <td>Medicare</td>\n",
              "      <td>23303.322092</td>\n",
              "      <td>Urgent</td>\n",
              "      <td>2020-05-03</td>\n",
              "      <td>Penicillin</td>\n",
              "      <td>Abnormal</td>\n",
              "    </tr>\n",
              "    <tr>\n",
              "      <th>4</th>\n",
              "      <td>41</td>\n",
              "      <td>Male</td>\n",
              "      <td>AB+</td>\n",
              "      <td>Arthritis</td>\n",
              "      <td>2020-08-20</td>\n",
              "      <td>Aetna</td>\n",
              "      <td>22522.363385</td>\n",
              "      <td>Urgent</td>\n",
              "      <td>2020-08-23</td>\n",
              "      <td>Aspirin</td>\n",
              "      <td>Abnormal</td>\n",
              "    </tr>\n",
              "    <tr>\n",
              "      <th>5</th>\n",
              "      <td>82</td>\n",
              "      <td>Male</td>\n",
              "      <td>AB+</td>\n",
              "      <td>Hypertension</td>\n",
              "      <td>2021-03-22</td>\n",
              "      <td>Cigna</td>\n",
              "      <td>39593.435761</td>\n",
              "      <td>Urgent</td>\n",
              "      <td>2021-04-15</td>\n",
              "      <td>Lipitor</td>\n",
              "      <td>Abnormal</td>\n",
              "    </tr>\n",
              "    <tr>\n",
              "      <th>6</th>\n",
              "      <td>55</td>\n",
              "      <td>Female</td>\n",
              "      <td>O-</td>\n",
              "      <td>Arthritis</td>\n",
              "      <td>2019-05-16</td>\n",
              "      <td>Blue Cross</td>\n",
              "      <td>13546.817249</td>\n",
              "      <td>Elective</td>\n",
              "      <td>2019-06-02</td>\n",
              "      <td>Aspirin</td>\n",
              "      <td>Normal</td>\n",
              "    </tr>\n",
              "  </tbody>\n",
              "</table>\n",
              "</div>"
            ],
            "text/plain": [
              "   Age  Gender Blood Type Medical Condition Date of Admission  \\\n",
              "0   35    Male         O+            Asthma        2023-06-01   \n",
              "2   49    Male         B-            Asthma        2020-05-02   \n",
              "4   41    Male        AB+         Arthritis        2020-08-20   \n",
              "5   82    Male        AB+      Hypertension        2021-03-22   \n",
              "6   55  Female         O-         Arthritis        2019-05-16   \n",
              "\n",
              "  Insurance Provider  Billing Amount Admission Type Discharge Date  \\\n",
              "0   UnitedHealthcare    47304.064845      Emergency     2023-06-15   \n",
              "2           Medicare    23303.322092         Urgent     2020-05-03   \n",
              "4              Aetna    22522.363385         Urgent     2020-08-23   \n",
              "5              Cigna    39593.435761         Urgent     2021-04-15   \n",
              "6         Blue Cross    13546.817249       Elective     2019-06-02   \n",
              "\n",
              "   Medication Test Results  \n",
              "0     Lipitor       Normal  \n",
              "2  Penicillin     Abnormal  \n",
              "4     Aspirin     Abnormal  \n",
              "5     Lipitor     Abnormal  \n",
              "6     Aspirin       Normal  "
            ]
          },
          "execution_count": 16,
          "metadata": {},
          "output_type": "execute_result"
        }
      ],
      "source": [
        "train.dropna(axis=0, inplace=True)\n",
        "train.head()"
      ]
    },
    {
      "cell_type": "code",
      "execution_count": 17,
      "metadata": {
        "id": "Y1F4CI90dStA"
      },
      "outputs": [
        {
          "data": {
            "text/plain": [
              "(6034, 11)"
            ]
          },
          "execution_count": 17,
          "metadata": {},
          "output_type": "execute_result"
        }
      ],
      "source": [
        "train.shape"
      ]
    },
    {
      "cell_type": "markdown",
      "metadata": {
        "id": "FHAyd3xXml5E"
      },
      "source": [
        "### Checking anomalies in date columns"
      ]
    },
    {
      "cell_type": "code",
      "execution_count": 18,
      "metadata": {
        "id": "1FKI2qsCdStA"
      },
      "outputs": [],
      "source": [
        "from re import *\n",
        "\n",
        "# checks the date format & limits of days, months, years\n",
        "def get_anomalies(series):\n",
        "    regex = \"\\d{4}-\\d{2}-\\d{2}\"\n",
        "    pattern = compile(regex)\n",
        "    list = []\n",
        "    for cell in series:\n",
        "        stringify_cell = str(cell)\n",
        "        if pattern.match(stringify_cell) == None:\n",
        "            list.append(stringify_cell)\n",
        "        else:\n",
        "            year, month, day = stringify_cell.split(\"-\")\n",
        "            year = int(year)\n",
        "            month = int(month)\n",
        "            day = int(day)\n",
        "            if(year > 2023 or year < 2000):\n",
        "                list.append(stringify_cell)\n",
        "            if(month > 12 or month < 1):\n",
        "                list.append(stringify_cell)\n",
        "            if(day > 31 or day < 1):\n",
        "                list.append(stringify_cell)\n",
        "    return list\n"
      ]
    },
    {
      "cell_type": "code",
      "execution_count": 19,
      "metadata": {
        "id": "1ANr1vridStA"
      },
      "outputs": [
        {
          "data": {
            "text/plain": [
              "[]"
            ]
          },
          "execution_count": 19,
          "metadata": {},
          "output_type": "execute_result"
        }
      ],
      "source": [
        "# [1] check the format and day & month & year limits\n",
        "admission_date_anomalies = get_anomalies(train[\"Date of Admission\"])\n",
        "admission_date_anomalies"
      ]
    },
    {
      "cell_type": "code",
      "execution_count": 20,
      "metadata": {
        "id": "hbzKcW1JdStA"
      },
      "outputs": [
        {
          "data": {
            "text/plain": [
              "[]"
            ]
          },
          "execution_count": 20,
          "metadata": {},
          "output_type": "execute_result"
        }
      ],
      "source": [
        "discharge_date_anomalies = get_anomalies(train[\"Discharge Date\"])\n",
        "discharge_date_anomalies"
      ]
    },
    {
      "cell_type": "code",
      "execution_count": 21,
      "metadata": {
        "id": "9MVaVK7bdStB"
      },
      "outputs": [
        {
          "name": "stdout",
          "output_type": "stream",
          "text": [
            "<class 'pandas.core.frame.DataFrame'>\n",
            "Index: 6034 entries, 0 to 6049\n",
            "Data columns (total 11 columns):\n",
            " #   Column              Non-Null Count  Dtype         \n",
            "---  ------              --------------  -----         \n",
            " 0   Age                 6034 non-null   int64         \n",
            " 1   Gender              6034 non-null   object        \n",
            " 2   Blood Type          6034 non-null   object        \n",
            " 3   Medical Condition   6034 non-null   object        \n",
            " 4   Date of Admission   6034 non-null   datetime64[ns]\n",
            " 5   Insurance Provider  6034 non-null   object        \n",
            " 6   Billing Amount      6034 non-null   float64       \n",
            " 7   Admission Type      6034 non-null   object        \n",
            " 8   Discharge Date      6034 non-null   datetime64[ns]\n",
            " 9   Medication          6034 non-null   object        \n",
            " 10  Test Results        6034 non-null   object        \n",
            "dtypes: datetime64[ns](2), float64(1), int64(1), object(7)\n",
            "memory usage: 565.7+ KB\n"
          ]
        }
      ],
      "source": [
        "# [2] Ensure that Admission date is before Discharge date\n",
        "# to do that, we need to convert their data types to datetime\n",
        "from datetime import date\n",
        "train[\"Date of Admission\"] = pd.to_datetime(train[\"Date of Admission\"])\n",
        "train[\"Discharge Date\"] = pd.to_datetime(train[\"Discharge Date\"])\n",
        "train.info()\n",
        "# here we should see the data types changed (strings -> datetime)"
      ]
    },
    {
      "cell_type": "code",
      "execution_count": 22,
      "metadata": {
        "id": "q0D_z30OdStB"
      },
      "outputs": [
        {
          "name": "stdout",
          "output_type": "stream",
          "text": [
            "<class 'pandas.core.frame.DataFrame'>\n",
            "Index: 6034 entries, 0 to 6049\n",
            "Data columns (total 12 columns):\n",
            " #   Column              Non-Null Count  Dtype         \n",
            "---  ------              --------------  -----         \n",
            " 0   Age                 6034 non-null   int64         \n",
            " 1   Gender              6034 non-null   object        \n",
            " 2   Blood Type          6034 non-null   object        \n",
            " 3   Medical Condition   6034 non-null   object        \n",
            " 4   Date of Admission   6034 non-null   datetime64[ns]\n",
            " 5   Insurance Provider  6034 non-null   object        \n",
            " 6   Billing Amount      6034 non-null   float64       \n",
            " 7   Admission Type      6034 non-null   object        \n",
            " 8   Discharge Date      6034 non-null   datetime64[ns]\n",
            " 9   Medication          6034 non-null   object        \n",
            " 10  Test Results        6034 non-null   object        \n",
            " 11  Differences         6034 non-null   int64         \n",
            "dtypes: datetime64[ns](2), float64(1), int64(2), object(7)\n",
            "memory usage: 612.8+ KB\n"
          ]
        }
      ],
      "source": [
        "# make a column for the differences between the 2 dates\n",
        "train[\"Differences\"] = train[\"Discharge Date\"] - train[\"Date of Admission\"]\n",
        "train[\"Differences\"] = train[\"Differences\"].dt.days\n",
        "\n",
        "train.info() # Now, we should see that differnces is of int datatype"
      ]
    },
    {
      "cell_type": "code",
      "execution_count": 23,
      "metadata": {
        "id": "tLBQvTi7dStB"
      },
      "outputs": [
        {
          "data": {
            "text/html": [
              "<div>\n",
              "<style scoped>\n",
              "    .dataframe tbody tr th:only-of-type {\n",
              "        vertical-align: middle;\n",
              "    }\n",
              "\n",
              "    .dataframe tbody tr th {\n",
              "        vertical-align: top;\n",
              "    }\n",
              "\n",
              "    .dataframe thead th {\n",
              "        text-align: right;\n",
              "    }\n",
              "</style>\n",
              "<table border=\"1\" class=\"dataframe\">\n",
              "  <thead>\n",
              "    <tr style=\"text-align: right;\">\n",
              "      <th></th>\n",
              "      <th>Age</th>\n",
              "      <th>Gender</th>\n",
              "      <th>Blood Type</th>\n",
              "      <th>Medical Condition</th>\n",
              "      <th>Insurance Provider</th>\n",
              "      <th>Billing Amount</th>\n",
              "      <th>Admission Type</th>\n",
              "      <th>Medication</th>\n",
              "      <th>Test Results</th>\n",
              "      <th>Differences</th>\n",
              "    </tr>\n",
              "  </thead>\n",
              "  <tbody>\n",
              "    <tr>\n",
              "      <th>0</th>\n",
              "      <td>35</td>\n",
              "      <td>Male</td>\n",
              "      <td>O+</td>\n",
              "      <td>Asthma</td>\n",
              "      <td>UnitedHealthcare</td>\n",
              "      <td>47304.064845</td>\n",
              "      <td>Emergency</td>\n",
              "      <td>Lipitor</td>\n",
              "      <td>Normal</td>\n",
              "      <td>14</td>\n",
              "    </tr>\n",
              "    <tr>\n",
              "      <th>2</th>\n",
              "      <td>49</td>\n",
              "      <td>Male</td>\n",
              "      <td>B-</td>\n",
              "      <td>Asthma</td>\n",
              "      <td>Medicare</td>\n",
              "      <td>23303.322092</td>\n",
              "      <td>Urgent</td>\n",
              "      <td>Penicillin</td>\n",
              "      <td>Abnormal</td>\n",
              "      <td>1</td>\n",
              "    </tr>\n",
              "    <tr>\n",
              "      <th>4</th>\n",
              "      <td>41</td>\n",
              "      <td>Male</td>\n",
              "      <td>AB+</td>\n",
              "      <td>Arthritis</td>\n",
              "      <td>Aetna</td>\n",
              "      <td>22522.363385</td>\n",
              "      <td>Urgent</td>\n",
              "      <td>Aspirin</td>\n",
              "      <td>Abnormal</td>\n",
              "      <td>3</td>\n",
              "    </tr>\n",
              "    <tr>\n",
              "      <th>5</th>\n",
              "      <td>82</td>\n",
              "      <td>Male</td>\n",
              "      <td>AB+</td>\n",
              "      <td>Hypertension</td>\n",
              "      <td>Cigna</td>\n",
              "      <td>39593.435761</td>\n",
              "      <td>Urgent</td>\n",
              "      <td>Lipitor</td>\n",
              "      <td>Abnormal</td>\n",
              "      <td>24</td>\n",
              "    </tr>\n",
              "    <tr>\n",
              "      <th>6</th>\n",
              "      <td>55</td>\n",
              "      <td>Female</td>\n",
              "      <td>O-</td>\n",
              "      <td>Arthritis</td>\n",
              "      <td>Blue Cross</td>\n",
              "      <td>13546.817249</td>\n",
              "      <td>Elective</td>\n",
              "      <td>Aspirin</td>\n",
              "      <td>Normal</td>\n",
              "      <td>17</td>\n",
              "    </tr>\n",
              "  </tbody>\n",
              "</table>\n",
              "</div>"
            ],
            "text/plain": [
              "   Age  Gender Blood Type Medical Condition Insurance Provider  \\\n",
              "0   35    Male         O+            Asthma   UnitedHealthcare   \n",
              "2   49    Male         B-            Asthma           Medicare   \n",
              "4   41    Male        AB+         Arthritis              Aetna   \n",
              "5   82    Male        AB+      Hypertension              Cigna   \n",
              "6   55  Female         O-         Arthritis         Blue Cross   \n",
              "\n",
              "   Billing Amount Admission Type  Medication Test Results  Differences  \n",
              "0    47304.064845      Emergency     Lipitor       Normal           14  \n",
              "2    23303.322092         Urgent  Penicillin     Abnormal            1  \n",
              "4    22522.363385         Urgent     Aspirin     Abnormal            3  \n",
              "5    39593.435761         Urgent     Lipitor     Abnormal           24  \n",
              "6    13546.817249       Elective     Aspirin       Normal           17  "
            ]
          },
          "execution_count": 23,
          "metadata": {},
          "output_type": "execute_result"
        }
      ],
      "source": [
        "train.drop([\"Date of Admission\", \"Discharge Date\"],axis=1, inplace=True)\n",
        "train.head()"
      ]
    },
    {
      "cell_type": "code",
      "execution_count": 24,
      "metadata": {
        "id": "Kwl4FWKadStC"
      },
      "outputs": [
        {
          "name": "stdout",
          "output_type": "stream",
          "text": [
            "Invalid Admission & Discharge dates:  0\n"
          ]
        }
      ],
      "source": [
        "print(\"Invalid Admission & Discharge dates: \", sum(train[\"Differences\"] < 0))"
      ]
    },
    {
      "cell_type": "markdown",
      "metadata": {
        "id": "jDArQyphr-q7"
      },
      "source": [
        "# Dealing with Outliers"
      ]
    },
    {
      "cell_type": "code",
      "execution_count": 25,
      "metadata": {
        "id": "E4i-GRWbdStC"
      },
      "outputs": [
        {
          "data": {
            "image/png": "[encoded data removed]",
            "text/plain": [
              "<Figure size 640x480 with 1 Axes>"
            ]
          },
          "metadata": {},
          "output_type": "display_data"
        },
        {
          "data": {
            "image/png": "[encoded data removed]",
            "text/plain": [
              "<Figure size 640x480 with 1 Axes>"
            ]
          },
          "metadata": {},
          "output_type": "display_data"
        },
        {
          "data": {
            "image/png": "[encoded data removed]",
            "text/plain": [
              "<Figure size 640x480 with 1 Axes>"
            ]
          },
          "metadata": {},
          "output_type": "display_data"
        }
      ],
      "source": [
        "import seaborn as sns\n",
        "import matplotlib.pyplot as plt\n",
        "\n",
        "numerical_columns = train.select_dtypes(include='number').columns.tolist()\n",
        "\n",
        "for column in numerical_columns:\n",
        "    plt.suptitle(column)\n",
        "    sns.boxplot(train[column])\n",
        "    plt.show()"
      ]
    },
    {
      "cell_type": "markdown",
      "metadata": {
        "id": "NDMT00X2vHEU"
      },
      "source": [
        "### Encoding Categorical data"
      ]
    },
    {
      "cell_type": "code",
      "execution_count": 26,
      "metadata": {
        "id": "JdSeIpzKdStD"
      },
      "outputs": [],
      "source": [
        "gender_encoded = {\n",
        "    'Male': 1,\n",
        "    'Female': 0\n",
        "}\n",
        "\n",
        "Admission_type_encoding = {\n",
        "    'Elective': 1,\n",
        "    'Urgent': 2,\n",
        "    'Emergency': 3\n",
        "}\n",
        "\n",
        "test_results = {\n",
        "    'Normal' : 1,\n",
        "    'Abnormal' : 0\n",
        "}\n",
        "\n",
        "train[\"Gender\"].replace(gender_encoded, inplace=True)\n",
        "train[\"Admission Type\"].replace(Admission_type_encoding, inplace=True)\n",
        "train[\"Test Results\"].replace(test_results, inplace=True)"
      ]
    },
    {
      "cell_type": "code",
      "execution_count": 27,
      "metadata": {
        "id": "axyei6rudStE"
      },
      "outputs": [
        {
          "data": {
            "text/html": [
              "<div>\n",
              "<style scoped>\n",
              "    .dataframe tbody tr th:only-of-type {\n",
              "        vertical-align: middle;\n",
              "    }\n",
              "\n",
              "    .dataframe tbody tr th {\n",
              "        vertical-align: top;\n",
              "    }\n",
              "\n",
              "    .dataframe thead th {\n",
              "        text-align: right;\n",
              "    }\n",
              "</style>\n",
              "<table border=\"1\" class=\"dataframe\">\n",
              "  <thead>\n",
              "    <tr style=\"text-align: right;\">\n",
              "      <th></th>\n",
              "      <th>Age</th>\n",
              "      <th>Gender</th>\n",
              "      <th>Blood Type</th>\n",
              "      <th>Medical Condition</th>\n",
              "      <th>Insurance Provider</th>\n",
              "      <th>Billing Amount</th>\n",
              "      <th>Admission Type</th>\n",
              "      <th>Medication</th>\n",
              "      <th>Test Results</th>\n",
              "      <th>Differences</th>\n",
              "    </tr>\n",
              "  </thead>\n",
              "  <tbody>\n",
              "    <tr>\n",
              "      <th>0</th>\n",
              "      <td>35</td>\n",
              "      <td>1</td>\n",
              "      <td>O+</td>\n",
              "      <td>Asthma</td>\n",
              "      <td>UnitedHealthcare</td>\n",
              "      <td>47304.064845</td>\n",
              "      <td>3</td>\n",
              "      <td>Lipitor</td>\n",
              "      <td>1</td>\n",
              "      <td>14</td>\n",
              "    </tr>\n",
              "    <tr>\n",
              "      <th>2</th>\n",
              "      <td>49</td>\n",
              "      <td>1</td>\n",
              "      <td>B-</td>\n",
              "      <td>Asthma</td>\n",
              "      <td>Medicare</td>\n",
              "      <td>23303.322092</td>\n",
              "      <td>2</td>\n",
              "      <td>Penicillin</td>\n",
              "      <td>0</td>\n",
              "      <td>1</td>\n",
              "    </tr>\n",
              "    <tr>\n",
              "      <th>4</th>\n",
              "      <td>41</td>\n",
              "      <td>1</td>\n",
              "      <td>AB+</td>\n",
              "      <td>Arthritis</td>\n",
              "      <td>Aetna</td>\n",
              "      <td>22522.363385</td>\n",
              "      <td>2</td>\n",
              "      <td>Aspirin</td>\n",
              "      <td>0</td>\n",
              "      <td>3</td>\n",
              "    </tr>\n",
              "    <tr>\n",
              "      <th>5</th>\n",
              "      <td>82</td>\n",
              "      <td>1</td>\n",
              "      <td>AB+</td>\n",
              "      <td>Hypertension</td>\n",
              "      <td>Cigna</td>\n",
              "      <td>39593.435761</td>\n",
              "      <td>2</td>\n",
              "      <td>Lipitor</td>\n",
              "      <td>0</td>\n",
              "      <td>24</td>\n",
              "    </tr>\n",
              "    <tr>\n",
              "      <th>6</th>\n",
              "      <td>55</td>\n",
              "      <td>0</td>\n",
              "      <td>O-</td>\n",
              "      <td>Arthritis</td>\n",
              "      <td>Blue Cross</td>\n",
              "      <td>13546.817249</td>\n",
              "      <td>1</td>\n",
              "      <td>Aspirin</td>\n",
              "      <td>1</td>\n",
              "      <td>17</td>\n",
              "    </tr>\n",
              "  </tbody>\n",
              "</table>\n",
              "</div>"
            ],
            "text/plain": [
              "   Age  Gender Blood Type Medical Condition Insurance Provider  \\\n",
              "0   35       1         O+            Asthma   UnitedHealthcare   \n",
              "2   49       1         B-            Asthma           Medicare   \n",
              "4   41       1        AB+         Arthritis              Aetna   \n",
              "5   82       1        AB+      Hypertension              Cigna   \n",
              "6   55       0         O-         Arthritis         Blue Cross   \n",
              "\n",
              "   Billing Amount  Admission Type  Medication  Test Results  Differences  \n",
              "0    47304.064845               3     Lipitor             1           14  \n",
              "2    23303.322092               2  Penicillin             0            1  \n",
              "4    22522.363385               2     Aspirin             0            3  \n",
              "5    39593.435761               2     Lipitor             0           24  \n",
              "6    13546.817249               1     Aspirin             1           17  "
            ]
          },
          "execution_count": 27,
          "metadata": {},
          "output_type": "execute_result"
        }
      ],
      "source": [
        "train.head()"
      ]
    },
    {
      "cell_type": "markdown",
      "metadata": {
        "id": "DW63QanDzDEU"
      },
      "source": [
        "* We tried one hot encoding, but it resulted in lower accuracy\n",
        "* So, we used label encoding"
      ]
    },
    {
      "cell_type": "code",
      "execution_count": 28,
      "metadata": {
        "id": "W-0Kp3YidStE"
      },
      "outputs": [],
      "source": [
        "from sklearn.preprocessing import LabelEncoder\n",
        "LE = LabelEncoder()\n",
        "\n",
        "classes = []\n",
        "\n",
        "categorical = ['Blood Type', 'Medical Condition', 'Insurance Provider', 'Medication']\n",
        "for column in categorical:\n",
        "    train[column] = LE.fit_transform(train[column])\n",
        "    classes.append(LE.classes_)"
      ]
    },
    {
      "cell_type": "code",
      "execution_count": 29,
      "metadata": {
        "id": "UZ-QWI3ZdStF"
      },
      "outputs": [
        {
          "data": {
            "text/html": [
              "<div>\n",
              "<style scoped>\n",
              "    .dataframe tbody tr th:only-of-type {\n",
              "        vertical-align: middle;\n",
              "    }\n",
              "\n",
              "    .dataframe tbody tr th {\n",
              "        vertical-align: top;\n",
              "    }\n",
              "\n",
              "    .dataframe thead th {\n",
              "        text-align: right;\n",
              "    }\n",
              "</style>\n",
              "<table border=\"1\" class=\"dataframe\">\n",
              "  <thead>\n",
              "    <tr style=\"text-align: right;\">\n",
              "      <th></th>\n",
              "      <th>Age</th>\n",
              "      <th>Gender</th>\n",
              "      <th>Blood Type</th>\n",
              "      <th>Medical Condition</th>\n",
              "      <th>Insurance Provider</th>\n",
              "      <th>Billing Amount</th>\n",
              "      <th>Admission Type</th>\n",
              "      <th>Medication</th>\n",
              "      <th>Test Results</th>\n",
              "      <th>Differences</th>\n",
              "    </tr>\n",
              "  </thead>\n",
              "  <tbody>\n",
              "    <tr>\n",
              "      <th>0</th>\n",
              "      <td>35</td>\n",
              "      <td>1</td>\n",
              "      <td>6</td>\n",
              "      <td>1</td>\n",
              "      <td>4</td>\n",
              "      <td>47304.064845</td>\n",
              "      <td>3</td>\n",
              "      <td>2</td>\n",
              "      <td>1</td>\n",
              "      <td>14</td>\n",
              "    </tr>\n",
              "    <tr>\n",
              "      <th>2</th>\n",
              "      <td>49</td>\n",
              "      <td>1</td>\n",
              "      <td>5</td>\n",
              "      <td>1</td>\n",
              "      <td>3</td>\n",
              "      <td>23303.322092</td>\n",
              "      <td>2</td>\n",
              "      <td>4</td>\n",
              "      <td>0</td>\n",
              "      <td>1</td>\n",
              "    </tr>\n",
              "    <tr>\n",
              "      <th>4</th>\n",
              "      <td>41</td>\n",
              "      <td>1</td>\n",
              "      <td>2</td>\n",
              "      <td>0</td>\n",
              "      <td>0</td>\n",
              "      <td>22522.363385</td>\n",
              "      <td>2</td>\n",
              "      <td>0</td>\n",
              "      <td>0</td>\n",
              "      <td>3</td>\n",
              "    </tr>\n",
              "    <tr>\n",
              "      <th>5</th>\n",
              "      <td>82</td>\n",
              "      <td>1</td>\n",
              "      <td>2</td>\n",
              "      <td>4</td>\n",
              "      <td>2</td>\n",
              "      <td>39593.435761</td>\n",
              "      <td>2</td>\n",
              "      <td>2</td>\n",
              "      <td>0</td>\n",
              "      <td>24</td>\n",
              "    </tr>\n",
              "    <tr>\n",
              "      <th>6</th>\n",
              "      <td>55</td>\n",
              "      <td>0</td>\n",
              "      <td>7</td>\n",
              "      <td>0</td>\n",
              "      <td>1</td>\n",
              "      <td>13546.817249</td>\n",
              "      <td>1</td>\n",
              "      <td>0</td>\n",
              "      <td>1</td>\n",
              "      <td>17</td>\n",
              "    </tr>\n",
              "  </tbody>\n",
              "</table>\n",
              "</div>"
            ],
            "text/plain": [
              "   Age  Gender  Blood Type  Medical Condition  Insurance Provider  \\\n",
              "0   35       1           6                  1                   4   \n",
              "2   49       1           5                  1                   3   \n",
              "4   41       1           2                  0                   0   \n",
              "5   82       1           2                  4                   2   \n",
              "6   55       0           7                  0                   1   \n",
              "\n",
              "   Billing Amount  Admission Type  Medication  Test Results  Differences  \n",
              "0    47304.064845               3           2             1           14  \n",
              "2    23303.322092               2           4             0            1  \n",
              "4    22522.363385               2           0             0            3  \n",
              "5    39593.435761               2           2             0           24  \n",
              "6    13546.817249               1           0             1           17  "
            ]
          },
          "execution_count": 29,
          "metadata": {},
          "output_type": "execute_result"
        }
      ],
      "source": [
        "train.head()"
      ]
    },
    {
      "cell_type": "code",
      "execution_count": 30,
      "metadata": {
        "id": "doE4nC3bBh3j"
      },
      "outputs": [
        {
          "data": {
            "text/plain": [
              "array([[<Axes: title={'center': 'Age'}>,\n",
              "        <Axes: title={'center': 'Gender'}>,\n",
              "        <Axes: title={'center': 'Blood Type'}>],\n",
              "       [<Axes: title={'center': 'Medical Condition'}>,\n",
              "        <Axes: title={'center': 'Insurance Provider'}>,\n",
              "        <Axes: title={'center': 'Billing Amount'}>],\n",
              "       [<Axes: title={'center': 'Admission Type'}>,\n",
              "        <Axes: title={'center': 'Medication'}>,\n",
              "        <Axes: title={'center': 'Test Results'}>],\n",
              "       [<Axes: title={'center': 'Differences'}>, <Axes: >, <Axes: >]],\n",
              "      dtype=object)"
            ]
          },
          "execution_count": 30,
          "metadata": {},
          "output_type": "execute_result"
        },
        {
          "data": {
            "image/png": "[encoded data removed]",
            "text/plain": [
              "<Figure size 1200x1200 with 12 Axes>"
            ]
          },
          "metadata": {},
          "output_type": "display_data"
        }
      ],
      "source": [
        "train.hist(figsize=(12,12))"
      ]
    },
    {
      "cell_type": "markdown",
      "metadata": {},
      "source": [
        "## As seen above, pretty much all features are uniformly distributed"
      ]
    },
    {
      "cell_type": "code",
      "execution_count": 31,
      "metadata": {
        "id": "TXHnRzcKDqJy"
      },
      "outputs": [
        {
          "data": {
            "image/png": "[encoded data removed]",
            "text/plain": [
              "<Figure size 640x480 with 2 Axes>"
            ]
          },
          "metadata": {},
          "output_type": "display_data"
        }
      ],
      "source": [
        "dataplot = sns.heatmap(train.corr().round(2), cmap=\"YlGnBu\", annot=True)"
      ]
    },
    {
      "cell_type": "markdown",
      "metadata": {},
      "source": [
        "## No correlation at all"
      ]
    },
    {
      "cell_type": "markdown",
      "metadata": {
        "id": "Du3BKw0o1TYb"
      },
      "source": [
        "### Standardization"
      ]
    },
    {
      "cell_type": "code",
      "execution_count": 32,
      "metadata": {
        "id": "1yRbOlMKdStF"
      },
      "outputs": [],
      "source": [
        "from sklearn.preprocessing import Normalizer\n",
        "\n",
        "normalizer = Normalizer()\n",
        "\n",
        "train_features = train.drop(\"Test Results\", axis=1).copy()\n",
        "train_label = train[\"Test Results\"].values.copy()\n",
        "train_features = normalizer.fit_transform(train_features)\n",
        "\n",
        "\n"
      ]
    },
    {
      "cell_type": "code",
      "execution_count": 33,
      "metadata": {},
      "outputs": [
        {
          "data": {
            "text/plain": [
              "array([[7.39893886e-04, 2.11398253e-05, 1.26838952e-04, ...,\n",
              "        6.34194759e-05, 4.22796506e-05, 2.95957554e-04],\n",
              "       [2.10269973e-03, 4.29122394e-05, 2.14561197e-04, ...,\n",
              "        8.58244788e-05, 1.71648958e-04, 4.29122394e-05],\n",
              "       [1.82040981e-03, 4.44002394e-05, 8.88004787e-05, ...,\n",
              "        8.88004787e-05, 0.00000000e+00, 1.33200718e-04],\n",
              "       ...,\n",
              "       [1.78982024e-03, 0.00000000e+00, 1.52789533e-04, ...,\n",
              "        2.18270761e-05, 4.36541523e-05, 1.74616609e-04],\n",
              "       [8.75634521e-03, 1.65214061e-04, 9.91284363e-04, ...,\n",
              "        4.95642182e-04, 4.95642182e-04, 3.30428121e-03],\n",
              "       [4.02151947e-03, 0.00000000e+00, 0.00000000e+00, ...,\n",
              "        1.88508725e-04, 1.88508725e-04, 7.54034901e-04]])"
            ]
          },
          "execution_count": 33,
          "metadata": {},
          "output_type": "execute_result"
        }
      ],
      "source": [
        "train_features"
      ]
    },
    {
      "cell_type": "markdown",
      "metadata": {
        "id": "zgfXNlIBOPVP"
      },
      "source": [
        "## Applying all data pre-processing done on the trianing set on the test set"
      ]
    },
    {
      "cell_type": "code",
      "execution_count": 34,
      "metadata": {
        "id": "wFXY8kkMOeHl"
      },
      "outputs": [],
      "source": [
        "\n",
        "test.drop([\"Name\", \"Hospital\", \"Doctor\", \"Room Number\"],axis=1, inplace=True)\n",
        "\n",
        "test['Billing Amount'] = abs(test['Billing Amount'])\n",
        "test['Billing Amount'] = test['Billing Amount'].apply(lambda x: min(x, 50000))\n",
        "\n",
        "test.dropna(axis=0, inplace=True)"
      ]
    },
    {
      "cell_type": "code",
      "execution_count": 35,
      "metadata": {
        "id": "8OVOTYwdbCMe"
      },
      "outputs": [
        {
          "data": {
            "text/plain": [
              "[]"
            ]
          },
          "execution_count": 35,
          "metadata": {},
          "output_type": "execute_result"
        }
      ],
      "source": [
        "# Checking anomalies in date columns:\n",
        "# [1] check the format and day & month & year limits\n",
        "admission_date_anomalies = get_anomalies(test[\"Date of Admission\"])\n",
        "admission_date_anomalies"
      ]
    },
    {
      "cell_type": "code",
      "execution_count": 36,
      "metadata": {
        "id": "cNLut2gxbIeI"
      },
      "outputs": [
        {
          "data": {
            "text/plain": [
              "[]"
            ]
          },
          "execution_count": 36,
          "metadata": {},
          "output_type": "execute_result"
        }
      ],
      "source": [
        "discharge_date_anomalies = get_anomalies(test[\"Discharge Date\"])\n",
        "discharge_date_anomalies"
      ]
    },
    {
      "cell_type": "code",
      "execution_count": 37,
      "metadata": {
        "id": "g6Is_wkVbSB_"
      },
      "outputs": [
        {
          "data": {
            "image/png": "[encoded data removed]",
            "text/plain": [
              "<Figure size 640x480 with 1 Axes>"
            ]
          },
          "metadata": {},
          "output_type": "display_data"
        },
        {
          "data": {
            "image/png": "[encoded data removed]",
            "text/plain": [
              "<Figure size 640x480 with 1 Axes>"
            ]
          },
          "metadata": {},
          "output_type": "display_data"
        },
        {
          "data": {
            "image/png": "[encoded data removed]",
            "text/plain": [
              "<Figure size 640x480 with 1 Axes>"
            ]
          },
          "metadata": {},
          "output_type": "display_data"
        }
      ],
      "source": [
        "# [2] Ensure that Admission date is before Discharge date\n",
        "# to do that, we need to convert their data types to datetime\n",
        "test[\"Date of Admission\"] = pd.to_datetime(test[\"Date of Admission\"])\n",
        "test[\"Discharge Date\"] = pd.to_datetime(test[\"Discharge Date\"])\n",
        "test[\"Differences\"] = test[\"Discharge Date\"] - test[\"Date of Admission\"]\n",
        "test[\"Differences\"] = test[\"Differences\"].dt.days\n",
        "test.drop([\"Date of Admission\", \"Discharge Date\"],axis=1, inplace=True)\n",
        "\n",
        "for column in numerical_columns:\n",
        "    plt.suptitle(column)\n",
        "    sns.boxplot(test[column])\n",
        "    plt.show()"
      ]
    },
    {
      "cell_type": "code",
      "execution_count": 38,
      "metadata": {
        "id": "hrhuvLf1bluO"
      },
      "outputs": [
        {
          "data": {
            "text/html": [
              "<div>\n",
              "<style scoped>\n",
              "    .dataframe tbody tr th:only-of-type {\n",
              "        vertical-align: middle;\n",
              "    }\n",
              "\n",
              "    .dataframe tbody tr th {\n",
              "        vertical-align: top;\n",
              "    }\n",
              "\n",
              "    .dataframe thead th {\n",
              "        text-align: right;\n",
              "    }\n",
              "</style>\n",
              "<table border=\"1\" class=\"dataframe\">\n",
              "  <thead>\n",
              "    <tr style=\"text-align: right;\">\n",
              "      <th></th>\n",
              "      <th>Age</th>\n",
              "      <th>Gender</th>\n",
              "      <th>Blood Type</th>\n",
              "      <th>Medical Condition</th>\n",
              "      <th>Insurance Provider</th>\n",
              "      <th>Billing Amount</th>\n",
              "      <th>Admission Type</th>\n",
              "      <th>Medication</th>\n",
              "      <th>Test Results</th>\n",
              "      <th>Differences</th>\n",
              "    </tr>\n",
              "  </thead>\n",
              "  <tbody>\n",
              "    <tr>\n",
              "      <th>0</th>\n",
              "      <td>84</td>\n",
              "      <td>1</td>\n",
              "      <td>AB-</td>\n",
              "      <td>Hypertension</td>\n",
              "      <td>Cigna</td>\n",
              "      <td>5402.833461</td>\n",
              "      <td>1</td>\n",
              "      <td>Penicillin</td>\n",
              "      <td>0</td>\n",
              "      <td>9</td>\n",
              "    </tr>\n",
              "    <tr>\n",
              "      <th>1</th>\n",
              "      <td>39</td>\n",
              "      <td>0</td>\n",
              "      <td>AB+</td>\n",
              "      <td>Obesity</td>\n",
              "      <td>Blue Cross</td>\n",
              "      <td>48779.537911</td>\n",
              "      <td>1</td>\n",
              "      <td>Ibuprofen</td>\n",
              "      <td>0</td>\n",
              "      <td>29</td>\n",
              "    </tr>\n",
              "    <tr>\n",
              "      <th>4</th>\n",
              "      <td>84</td>\n",
              "      <td>1</td>\n",
              "      <td>AB-</td>\n",
              "      <td>Cancer</td>\n",
              "      <td>Medicare</td>\n",
              "      <td>1739.106108</td>\n",
              "      <td>2</td>\n",
              "      <td>Lipitor</td>\n",
              "      <td>1</td>\n",
              "      <td>30</td>\n",
              "    </tr>\n",
              "    <tr>\n",
              "      <th>5</th>\n",
              "      <td>80</td>\n",
              "      <td>1</td>\n",
              "      <td>O+</td>\n",
              "      <td>Arthritis</td>\n",
              "      <td>Cigna</td>\n",
              "      <td>34865.241659</td>\n",
              "      <td>3</td>\n",
              "      <td>Paracetamol</td>\n",
              "      <td>0</td>\n",
              "      <td>19</td>\n",
              "    </tr>\n",
              "    <tr>\n",
              "      <th>6</th>\n",
              "      <td>42</td>\n",
              "      <td>1</td>\n",
              "      <td>O-</td>\n",
              "      <td>Cancer</td>\n",
              "      <td>UnitedHealthcare</td>\n",
              "      <td>23130.841424</td>\n",
              "      <td>3</td>\n",
              "      <td>Ibuprofen</td>\n",
              "      <td>1</td>\n",
              "      <td>3</td>\n",
              "    </tr>\n",
              "  </tbody>\n",
              "</table>\n",
              "</div>"
            ],
            "text/plain": [
              "   Age  Gender Blood Type Medical Condition Insurance Provider  \\\n",
              "0   84       1        AB-      Hypertension              Cigna   \n",
              "1   39       0        AB+           Obesity         Blue Cross   \n",
              "4   84       1        AB-            Cancer           Medicare   \n",
              "5   80       1         O+         Arthritis              Cigna   \n",
              "6   42       1         O-            Cancer   UnitedHealthcare   \n",
              "\n",
              "   Billing Amount  Admission Type   Medication  Test Results  Differences  \n",
              "0     5402.833461               1   Penicillin             0            9  \n",
              "1    48779.537911               1    Ibuprofen             0           29  \n",
              "4     1739.106108               2      Lipitor             1           30  \n",
              "5    34865.241659               3  Paracetamol             0           19  \n",
              "6    23130.841424               3    Ibuprofen             1            3  "
            ]
          },
          "execution_count": 38,
          "metadata": {},
          "output_type": "execute_result"
        }
      ],
      "source": [
        "test[\"Gender\"].replace(gender_encoded, inplace=True)\n",
        "test[\"Admission Type\"].replace(Admission_type_encoding, inplace=True)\n",
        "test[\"Test Results\"].replace(test_results, inplace=True)\n",
        "test.head()"
      ]
    },
    {
      "cell_type": "code",
      "execution_count": 39,
      "metadata": {
        "id": "DFFfLP7DV2tr"
      },
      "outputs": [
        {
          "data": {
            "text/html": [
              "<div>\n",
              "<style scoped>\n",
              "    .dataframe tbody tr th:only-of-type {\n",
              "        vertical-align: middle;\n",
              "    }\n",
              "\n",
              "    .dataframe tbody tr th {\n",
              "        vertical-align: top;\n",
              "    }\n",
              "\n",
              "    .dataframe thead th {\n",
              "        text-align: right;\n",
              "    }\n",
              "</style>\n",
              "<table border=\"1\" class=\"dataframe\">\n",
              "  <thead>\n",
              "    <tr style=\"text-align: right;\">\n",
              "      <th></th>\n",
              "      <th>Age</th>\n",
              "      <th>Gender</th>\n",
              "      <th>Blood Type</th>\n",
              "      <th>Medical Condition</th>\n",
              "      <th>Insurance Provider</th>\n",
              "      <th>Billing Amount</th>\n",
              "      <th>Admission Type</th>\n",
              "      <th>Medication</th>\n",
              "      <th>Test Results</th>\n",
              "      <th>Differences</th>\n",
              "    </tr>\n",
              "  </thead>\n",
              "  <tbody>\n",
              "    <tr>\n",
              "      <th>0</th>\n",
              "      <td>84</td>\n",
              "      <td>1</td>\n",
              "      <td>3</td>\n",
              "      <td>4</td>\n",
              "      <td>2</td>\n",
              "      <td>5402.833461</td>\n",
              "      <td>1</td>\n",
              "      <td>4</td>\n",
              "      <td>0</td>\n",
              "      <td>9</td>\n",
              "    </tr>\n",
              "    <tr>\n",
              "      <th>1</th>\n",
              "      <td>39</td>\n",
              "      <td>0</td>\n",
              "      <td>2</td>\n",
              "      <td>5</td>\n",
              "      <td>1</td>\n",
              "      <td>48779.537911</td>\n",
              "      <td>1</td>\n",
              "      <td>1</td>\n",
              "      <td>0</td>\n",
              "      <td>29</td>\n",
              "    </tr>\n",
              "    <tr>\n",
              "      <th>4</th>\n",
              "      <td>84</td>\n",
              "      <td>1</td>\n",
              "      <td>3</td>\n",
              "      <td>2</td>\n",
              "      <td>3</td>\n",
              "      <td>1739.106108</td>\n",
              "      <td>2</td>\n",
              "      <td>2</td>\n",
              "      <td>1</td>\n",
              "      <td>30</td>\n",
              "    </tr>\n",
              "    <tr>\n",
              "      <th>5</th>\n",
              "      <td>80</td>\n",
              "      <td>1</td>\n",
              "      <td>6</td>\n",
              "      <td>0</td>\n",
              "      <td>2</td>\n",
              "      <td>34865.241659</td>\n",
              "      <td>3</td>\n",
              "      <td>3</td>\n",
              "      <td>0</td>\n",
              "      <td>19</td>\n",
              "    </tr>\n",
              "    <tr>\n",
              "      <th>6</th>\n",
              "      <td>42</td>\n",
              "      <td>1</td>\n",
              "      <td>7</td>\n",
              "      <td>2</td>\n",
              "      <td>4</td>\n",
              "      <td>23130.841424</td>\n",
              "      <td>3</td>\n",
              "      <td>1</td>\n",
              "      <td>1</td>\n",
              "      <td>3</td>\n",
              "    </tr>\n",
              "  </tbody>\n",
              "</table>\n",
              "</div>"
            ],
            "text/plain": [
              "   Age  Gender  Blood Type  Medical Condition  Insurance Provider  \\\n",
              "0   84       1           3                  4                   2   \n",
              "1   39       0           2                  5                   1   \n",
              "4   84       1           3                  2                   3   \n",
              "5   80       1           6                  0                   2   \n",
              "6   42       1           7                  2                   4   \n",
              "\n",
              "   Billing Amount  Admission Type  Medication  Test Results  Differences  \n",
              "0     5402.833461               1           4             0            9  \n",
              "1    48779.537911               1           1             0           29  \n",
              "4     1739.106108               2           2             1           30  \n",
              "5    34865.241659               3           3             0           19  \n",
              "6    23130.841424               3           1             1            3  "
            ]
          },
          "execution_count": 39,
          "metadata": {},
          "output_type": "execute_result"
        }
      ],
      "source": [
        "index = 0\n",
        "for column in categorical:\n",
        "    LE.classes_ = classes[index]\n",
        "    test[column] = LE.transform(test[column])\n",
        "    index += 1\n",
        "test.head()"
      ]
    },
    {
      "cell_type": "code",
      "execution_count": 40,
      "metadata": {
        "id": "VopmsoM7cFe1"
      },
      "outputs": [
        {
          "data": {
            "text/html": [
              "<div>\n",
              "<style scoped>\n",
              "    .dataframe tbody tr th:only-of-type {\n",
              "        vertical-align: middle;\n",
              "    }\n",
              "\n",
              "    .dataframe tbody tr th {\n",
              "        vertical-align: top;\n",
              "    }\n",
              "\n",
              "    .dataframe thead th {\n",
              "        text-align: right;\n",
              "    }\n",
              "</style>\n",
              "<table border=\"1\" class=\"dataframe\">\n",
              "  <thead>\n",
              "    <tr style=\"text-align: right;\">\n",
              "      <th></th>\n",
              "      <th>Age</th>\n",
              "      <th>Gender</th>\n",
              "      <th>Blood Type</th>\n",
              "      <th>Medical Condition</th>\n",
              "      <th>Insurance Provider</th>\n",
              "      <th>Billing Amount</th>\n",
              "      <th>Admission Type</th>\n",
              "      <th>Medication</th>\n",
              "      <th>Test Results</th>\n",
              "      <th>Differences</th>\n",
              "    </tr>\n",
              "  </thead>\n",
              "  <tbody>\n",
              "    <tr>\n",
              "      <th>0</th>\n",
              "      <td>84</td>\n",
              "      <td>1</td>\n",
              "      <td>3</td>\n",
              "      <td>4</td>\n",
              "      <td>2</td>\n",
              "      <td>5402.833461</td>\n",
              "      <td>1</td>\n",
              "      <td>4</td>\n",
              "      <td>0</td>\n",
              "      <td>9</td>\n",
              "    </tr>\n",
              "    <tr>\n",
              "      <th>1</th>\n",
              "      <td>39</td>\n",
              "      <td>0</td>\n",
              "      <td>2</td>\n",
              "      <td>5</td>\n",
              "      <td>1</td>\n",
              "      <td>48779.537911</td>\n",
              "      <td>1</td>\n",
              "      <td>1</td>\n",
              "      <td>0</td>\n",
              "      <td>29</td>\n",
              "    </tr>\n",
              "    <tr>\n",
              "      <th>4</th>\n",
              "      <td>84</td>\n",
              "      <td>1</td>\n",
              "      <td>3</td>\n",
              "      <td>2</td>\n",
              "      <td>3</td>\n",
              "      <td>1739.106108</td>\n",
              "      <td>2</td>\n",
              "      <td>2</td>\n",
              "      <td>1</td>\n",
              "      <td>30</td>\n",
              "    </tr>\n",
              "    <tr>\n",
              "      <th>5</th>\n",
              "      <td>80</td>\n",
              "      <td>1</td>\n",
              "      <td>6</td>\n",
              "      <td>0</td>\n",
              "      <td>2</td>\n",
              "      <td>34865.241659</td>\n",
              "      <td>3</td>\n",
              "      <td>3</td>\n",
              "      <td>0</td>\n",
              "      <td>19</td>\n",
              "    </tr>\n",
              "    <tr>\n",
              "      <th>6</th>\n",
              "      <td>42</td>\n",
              "      <td>1</td>\n",
              "      <td>7</td>\n",
              "      <td>2</td>\n",
              "      <td>4</td>\n",
              "      <td>23130.841424</td>\n",
              "      <td>3</td>\n",
              "      <td>1</td>\n",
              "      <td>1</td>\n",
              "      <td>3</td>\n",
              "    </tr>\n",
              "    <tr>\n",
              "      <th>...</th>\n",
              "      <td>...</td>\n",
              "      <td>...</td>\n",
              "      <td>...</td>\n",
              "      <td>...</td>\n",
              "      <td>...</td>\n",
              "      <td>...</td>\n",
              "      <td>...</td>\n",
              "      <td>...</td>\n",
              "      <td>...</td>\n",
              "      <td>...</td>\n",
              "    </tr>\n",
              "    <tr>\n",
              "      <th>669</th>\n",
              "      <td>83</td>\n",
              "      <td>1</td>\n",
              "      <td>0</td>\n",
              "      <td>5</td>\n",
              "      <td>4</td>\n",
              "      <td>39606.840083</td>\n",
              "      <td>1</td>\n",
              "      <td>1</td>\n",
              "      <td>0</td>\n",
              "      <td>4</td>\n",
              "    </tr>\n",
              "    <tr>\n",
              "      <th>670</th>\n",
              "      <td>47</td>\n",
              "      <td>0</td>\n",
              "      <td>2</td>\n",
              "      <td>0</td>\n",
              "      <td>1</td>\n",
              "      <td>5995.717488</td>\n",
              "      <td>3</td>\n",
              "      <td>1</td>\n",
              "      <td>1</td>\n",
              "      <td>23</td>\n",
              "    </tr>\n",
              "    <tr>\n",
              "      <th>671</th>\n",
              "      <td>54</td>\n",
              "      <td>1</td>\n",
              "      <td>5</td>\n",
              "      <td>0</td>\n",
              "      <td>1</td>\n",
              "      <td>49559.202905</td>\n",
              "      <td>1</td>\n",
              "      <td>1</td>\n",
              "      <td>1</td>\n",
              "      <td>14</td>\n",
              "    </tr>\n",
              "    <tr>\n",
              "      <th>672</th>\n",
              "      <td>84</td>\n",
              "      <td>1</td>\n",
              "      <td>0</td>\n",
              "      <td>0</td>\n",
              "      <td>4</td>\n",
              "      <td>25236.344761</td>\n",
              "      <td>2</td>\n",
              "      <td>4</td>\n",
              "      <td>1</td>\n",
              "      <td>20</td>\n",
              "    </tr>\n",
              "    <tr>\n",
              "      <th>673</th>\n",
              "      <td>20</td>\n",
              "      <td>1</td>\n",
              "      <td>5</td>\n",
              "      <td>0</td>\n",
              "      <td>0</td>\n",
              "      <td>37223.965865</td>\n",
              "      <td>3</td>\n",
              "      <td>4</td>\n",
              "      <td>0</td>\n",
              "      <td>24</td>\n",
              "    </tr>\n",
              "  </tbody>\n",
              "</table>\n",
              "<p>662 rows × 10 columns</p>\n",
              "</div>"
            ],
            "text/plain": [
              "     Age  Gender  Blood Type  Medical Condition  Insurance Provider  \\\n",
              "0     84       1           3                  4                   2   \n",
              "1     39       0           2                  5                   1   \n",
              "4     84       1           3                  2                   3   \n",
              "5     80       1           6                  0                   2   \n",
              "6     42       1           7                  2                   4   \n",
              "..   ...     ...         ...                ...                 ...   \n",
              "669   83       1           0                  5                   4   \n",
              "670   47       0           2                  0                   1   \n",
              "671   54       1           5                  0                   1   \n",
              "672   84       1           0                  0                   4   \n",
              "673   20       1           5                  0                   0   \n",
              "\n",
              "     Billing Amount  Admission Type  Medication  Test Results  Differences  \n",
              "0       5402.833461               1           4             0            9  \n",
              "1      48779.537911               1           1             0           29  \n",
              "4       1739.106108               2           2             1           30  \n",
              "5      34865.241659               3           3             0           19  \n",
              "6      23130.841424               3           1             1            3  \n",
              "..              ...             ...         ...           ...          ...  \n",
              "669    39606.840083               1           1             0            4  \n",
              "670     5995.717488               3           1             1           23  \n",
              "671    49559.202905               1           1             1           14  \n",
              "672    25236.344761               2           4             1           20  \n",
              "673    37223.965865               3           4             0           24  \n",
              "\n",
              "[662 rows x 10 columns]"
            ]
          },
          "execution_count": 40,
          "metadata": {},
          "output_type": "execute_result"
        }
      ],
      "source": [
        "test_features = test.drop(\"Test Results\", axis=1).copy()\n",
        "test_label = test[\"Test Results\"].values.copy()\n",
        "test_features = normalizer.fit_transform(test_features)\n",
        "\n",
        "test"
      ]
    },
    {
      "cell_type": "markdown",
      "metadata": {
        "id": "Ja1yod7C30N7"
      },
      "source": [
        "# Training Models"
      ]
    },
    {
      "cell_type": "code",
      "execution_count": 41,
      "metadata": {
        "id": "31ABWiJHdStF"
      },
      "outputs": [],
      "source": [
        "x_ = train.drop(['Test Results'], axis=1).values.copy()\n",
        "y_ = train['Test Results'].values.copy()"
      ]
    },
    {
      "cell_type": "markdown",
      "metadata": {
        "id": "qP7Fnpch4FTV"
      },
      "source": [
        "## [1] Decision Tree (ID3)"
      ]
    },
    {
      "cell_type": "code",
      "execution_count": 42,
      "metadata": {
        "id": "QvfsEDhbdStF"
      },
      "outputs": [
        {
          "name": "stdout",
          "output_type": "stream",
          "text": [
            "Cross-validation scores: [0.525 0.508 0.5   0.539 0.522]\n",
            "Mean Cross-validation score: 0.519\n"
          ]
        }
      ],
      "source": [
        "from sklearn.model_selection import cross_val_score\n",
        "from sklearn.model_selection import cross_val_predict\n",
        "from sklearn.tree import DecisionTreeClassifier\n",
        "from sklearn.metrics import confusion_matrix\n",
        "\n",
        "ID3 = DecisionTreeClassifier(random_state=42)\n",
        "\n",
        "cv_scores = cross_val_score(ID3, x_, y_, cv=5, scoring='accuracy')  # You can specify a different scoring metric if needed\n",
        "predictions = cross_val_predict(ID3, x_, y_, cv=5)\n",
        "\n",
        "# cross-validation scores\n",
        "print(\"Cross-validation scores:\", cv_scores.round(3))\n",
        "print(\"Mean Cross-validation score:\", cv_scores.mean().round(3))\n",
        "ID3_CM = confusion_matrix(y_, predictions)"
      ]
    },
    {
      "cell_type": "markdown",
      "metadata": {
        "id": "dl6Zett_-ZR8"
      },
      "source": [
        "## [2] Logistic Regression"
      ]
    },
    {
      "cell_type": "code",
      "execution_count": 43,
      "metadata": {
        "id": "rp1OECEodStF"
      },
      "outputs": [
        {
          "name": "stdout",
          "output_type": "stream",
          "text": [
            "Cross-validation scores: [0.51201326 0.51201326 0.50704225 0.51284176 0.51243781]\n",
            "Mean CV score: 0.5112696665801069\n"
          ]
        }
      ],
      "source": [
        "from sklearn.linear_model import LogisticRegression\n",
        "\n",
        "LR = LogisticRegression(random_state=42)\n",
        "\n",
        "cv_scores = cross_val_score(LR, x_, y_, cv=5, scoring='accuracy')  # You can specify a different scoring metric if needed\n",
        "predictions = cross_val_predict(LR, x_, y_, cv=5)\n",
        "# Display the cross-validation scores\n",
        "print(\"Cross-validation scores:\", cv_scores)\n",
        "print(\"Mean CV score:\", cv_scores.mean())\n",
        "confusion_matrix(y_, predictions)\n",
        "LR_CM = confusion_matrix(y_, predictions)\n"
      ]
    },
    {
      "cell_type": "code",
      "execution_count": 44,
      "metadata": {},
      "outputs": [
        {
          "data": {
            "text/plain": [
              "array([[2955,  137],\n",
              "       [2812,  130]], dtype=int64)"
            ]
          },
          "execution_count": 44,
          "metadata": {},
          "output_type": "execute_result"
        }
      ],
      "source": [
        "LR_CM"
      ]
    },
    {
      "cell_type": "markdown",
      "metadata": {
        "id": "XolWD6GSFTtF"
      },
      "source": [
        "## [3] SVM (Linear kernel)"
      ]
    },
    {
      "cell_type": "code",
      "execution_count": 45,
      "metadata": {
        "id": "ZhPZPGeFFZ0b"
      },
      "outputs": [],
      "source": [
        "#from sklearn import svm\n",
        "\n",
        "#SV_C_Linear = svm.SVC(kernel='linear')\n",
        "\n",
        "#cv_scores = cross_val_score(SV_C_Linear, x_, y_, cv=5, scoring='accuracy')  # You can specify a different scoring metric if needed\n",
        "#predictions = cross_val_predict(SV_C_Linear, x_, y_, cv=5)\n",
        "# Display the cross-validation scores\n",
        "#print(\"Cross-validation scores:\", cv_scores)\n",
        "#print(\"Mean CV score:\", cv_scores.mean())\n",
        "#confusion_matrix(y_, predictions)\n",
        "#SV_C_Linear_CM = confusion_matrix(y_, predictions)\n",
        "\n",
        "\n"
      ]
    },
    {
      "cell_type": "markdown",
      "metadata": {
        "id": "vuJT7HTZIFjN"
      },
      "source": [
        "## [4] SVM (rbf kernel)"
      ]
    },
    {
      "cell_type": "code",
      "execution_count": 46,
      "metadata": {
        "id": "EdCQTJKYILmY"
      },
      "outputs": [
        {
          "name": "stdout",
          "output_type": "stream",
          "text": [
            "Cross-validation scores: [0.51201326 0.51201326 0.51284176 0.51284176 0.51243781]\n",
            "Mean CV score: 0.5124295671600573\n"
          ]
        }
      ],
      "source": [
        "from sklearn import svm\n",
        "\n",
        "SV_C_RBF = svm.SVC(kernel='rbf', random_state=42)\n",
        "\n",
        "cv_scores = cross_val_score(SV_C_RBF, x_, y_, cv=5, scoring='accuracy')  # You can specify a different scoring metric if needed\n",
        "predictions = cross_val_predict(SV_C_RBF, x_, y_, cv=5)\n",
        "# Display the cross-validation scores\\\n",
        "\n",
        "\n",
        "print(\"Cross-validation scores:\", cv_scores)\n",
        "print(\"Mean CV score:\", cv_scores.mean())\n",
        "confusion_matrix(y_, predictions)\n",
        "SV_C_RBF_CM = confusion_matrix(y_, predictions)\n"
      ]
    },
    {
      "cell_type": "code",
      "execution_count": 47,
      "metadata": {},
      "outputs": [
        {
          "data": {
            "text/plain": [
              "array([1, 0, 0, ..., 1, 0, 1], dtype=int64)"
            ]
          },
          "execution_count": 47,
          "metadata": {},
          "output_type": "execute_result"
        }
      ],
      "source": [
        "y_"
      ]
    },
    {
      "cell_type": "code",
      "execution_count": 48,
      "metadata": {},
      "outputs": [
        {
          "data": {
            "text/plain": [
              "array([[3092,    0],\n",
              "       [2942,    0]], dtype=int64)"
            ]
          },
          "execution_count": 48,
          "metadata": {},
          "output_type": "execute_result"
        }
      ],
      "source": [
        "SV_C_RBF_CM"
      ]
    },
    {
      "cell_type": "markdown",
      "metadata": {
        "id": "tbWvG6y3IlnM"
      },
      "source": [
        "## [5] SVM (sigmoid kernel)"
      ]
    },
    {
      "cell_type": "code",
      "execution_count": 49,
      "metadata": {
        "id": "YECm6FmVIrzi"
      },
      "outputs": [
        {
          "name": "stdout",
          "output_type": "stream",
          "text": [
            "Cross-validation scores: [0.50787075 0.48218724 0.51532726 0.47390224 0.49419569]\n",
            "Mean CV score: 0.4946966355738568\n"
          ]
        },
        {
          "data": {
            "text/plain": [
              "array([[1566, 1526],\n",
              "       [1523, 1419]], dtype=int64)"
            ]
          },
          "execution_count": 49,
          "metadata": {},
          "output_type": "execute_result"
        }
      ],
      "source": [
        "from sklearn import svm\n",
        "\n",
        "SV_C_SGMD = svm.SVC(kernel='sigmoid',random_state=42)\n",
        "\n",
        "cv_scores = cross_val_score(SV_C_SGMD, x_, y_, cv=5, scoring='accuracy')  # You can specify a different scoring metric if needed\n",
        "predictions = cross_val_predict(SV_C_SGMD, x_, y_, cv=5)\n",
        "# Display the cross-validation scores\n",
        "print(\"Cross-validation scores:\", cv_scores)\n",
        "print(\"Mean CV score:\", cv_scores.mean())\n",
        "confusion_matrix(y_, predictions)\n",
        "SV_C_SGMD_CM = confusion_matrix(y_, predictions)\n",
        "SV_C_SGMD_CM"
      ]
    },
    {
      "cell_type": "markdown",
      "metadata": {
        "id": "qqBZtqsdKJ57"
      },
      "source": [
        "## Calculating Accuracy Metrics (Precision, Recall, F1-Score)"
      ]
    },
    {
      "cell_type": "code",
      "execution_count": 50,
      "metadata": {
        "id": "kvmHuEleKVRe"
      },
      "outputs": [
        {
          "name": "stdout",
          "output_type": "stream",
          "text": [
            "1566\n",
            "1526\n",
            "1523\n",
            "1419\n"
          ]
        }
      ],
      "source": [
        "print(SV_C_SGMD_CM[0][0]) #true negative\n",
        "print(SV_C_SGMD_CM[0][1]) #false positive\n",
        "print(SV_C_SGMD_CM[1][0]) #false negative\n",
        "print(SV_C_SGMD_CM[1][1]) #true positive"
      ]
    },
    {
      "cell_type": "code",
      "execution_count": 51,
      "metadata": {
        "id": "re36yUhsK9R0"
      },
      "outputs": [],
      "source": [
        "def calculate_precision_n_recall(confusion_matrix):\n",
        "  TN = confusion_matrix[0][0]\n",
        "  FP = confusion_matrix[0][1]\n",
        "  FN = confusion_matrix[1][0]\n",
        "  TP = confusion_matrix[1][1]\n",
        "\n",
        "  precision = (TP / (TP + FP)).round(3)\n",
        "  recall = (TP / (TP + FN)).round(3)\n",
        "  F1_Score = (2 * precision * recall / (precision + recall)).round(3)\n",
        "  acc_metrics = f\"precision: {(precision*100).round(3)}%, recall: {(recall*100).round(3)}%, F1-Score: {(F1_Score*100).round(3)}%\"\n",
        "  return acc_metrics"
      ]
    },
    {
      "cell_type": "code",
      "execution_count": 52,
      "metadata": {
        "id": "4BFp23R9MclC"
      },
      "outputs": [
        {
          "name": "stdout",
          "output_type": "stream",
          "text": [
            "Metrics of ID3:  precision: 50.7%, recall: 50.7%, F1-Score: 50.7%\n",
            "Metrics of Logistic Regression:  precision: 48.7%, recall: 4.4%, F1-Score: 8.1%\n",
            "Metrics of SVM RBF kernel:  precision: nan%, recall: 0.0%, F1-Score: nan%\n",
            "Metrics of SVM Sigmoid kernel:  precision: 48.2%, recall: 48.2%, F1-Score: 48.2%\n"
          ]
        },
        {
          "name": "stderr",
          "output_type": "stream",
          "text": [
            "C:\\Users\\mahmo\\AppData\\Local\\Temp\\ipykernel_2504\\801578257.py:7: RuntimeWarning: invalid value encountered in scalar divide\n",
            "  precision = (TP / (TP + FP)).round(3)\n"
          ]
        }
      ],
      "source": [
        "print(\"Metrics of ID3: \", calculate_precision_n_recall(ID3_CM))\n",
        "print(\"Metrics of Logistic Regression: \", calculate_precision_n_recall(LR_CM))\n",
        "#print(\"Metrics of SVM Linear kernel: \", calculate_precision_n_recall(SV_C_Linear_CM))\n",
        "print(\"Metrics of SVM RBF kernel: \", calculate_precision_n_recall(SV_C_RBF_CM))\n",
        "print(\"Metrics of SVM Sigmoid kernel: \", calculate_precision_n_recall(SV_C_SGMD_CM))"
      ]
    },
    {
      "cell_type": "code",
      "execution_count": null,
      "metadata": {},
      "outputs": [],
      "source": []
    },
    {
      "cell_type": "code",
      "execution_count": 53,
      "metadata": {
        "id": "DXhgYqqzqXFj"
      },
      "outputs": [
        {
          "name": "stdout",
          "output_type": "stream",
          "text": [
            "precision: 42.6%, recall: 44.3%, F1-Score: 43.4%\n",
            "0.45317220543806647\n"
          ]
        }
      ],
      "source": [
        "from sklearn.metrics import accuracy_score\n",
        "ID3_2 = DecisionTreeClassifier(random_state=42)\n",
        "ID3_2.fit(train_features, train_label)\n",
        "predictions = ID3_2.predict(test_features)\n",
        "cm1 = confusion_matrix(test_label, predictions)\n",
        "print(calculate_precision_n_recall(cm1))\n",
        "print(accuracy_score(test_label, predictions))\n"
      ]
    },
    {
      "cell_type": "code",
      "execution_count": 54,
      "metadata": {},
      "outputs": [
        {
          "name": "stdout",
          "output_type": "stream",
          "text": [
            "[[345   3]\n",
            " [314   0]]\n",
            "precision: 0.0%, recall: 0.0%, F1-Score: nan%\n",
            "0.5211480362537765\n"
          ]
        },
        {
          "name": "stderr",
          "output_type": "stream",
          "text": [
            "C:\\Users\\mahmo\\AppData\\Local\\Temp\\ipykernel_2504\\801578257.py:9: RuntimeWarning: invalid value encountered in scalar divide\n",
            "  F1_Score = (2 * precision * recall / (precision + recall)).round(3)\n"
          ]
        }
      ],
      "source": [
        "from sklearn.metrics import accuracy_score\n",
        "\n",
        "LR2 = LogisticRegression(random_state=42)\n",
        "\n",
        "LR2.fit(train_features, train_label)\n",
        "\n",
        "predictions = LR2.predict(test_features)\n",
        "\n",
        "cm2 = confusion_matrix(test_label, predictions)\n",
        "print(cm2)\n",
        "print(calculate_precision_n_recall(cm2))\n",
        "\n",
        "print(accuracy_score(test_label, predictions))"
      ]
    },
    {
      "cell_type": "code",
      "execution_count": 55,
      "metadata": {},
      "outputs": [
        {
          "name": "stdout",
          "output_type": "stream",
          "text": [
            "[[345   3]\n",
            " [314   0]]\n",
            "precision: 0.0%, recall: 0.0%, F1-Score: nan%\n",
            "0.5211480362537765\n"
          ]
        },
        {
          "name": "stderr",
          "output_type": "stream",
          "text": [
            "C:\\Users\\mahmo\\AppData\\Local\\Temp\\ipykernel_2504\\801578257.py:9: RuntimeWarning: invalid value encountered in scalar divide\n",
            "  F1_Score = (2 * precision * recall / (precision + recall)).round(3)\n"
          ]
        }
      ],
      "source": [
        "from sklearn.metrics import accuracy_score\n",
        "\n",
        "SVM_RBF = svm.SVC(kernel='rbf', random_state=42)\n",
        "\n",
        "SVM_RBF.fit(train_features, train_label)\n",
        "\n",
        "predictions = SVM_RBF.predict(test_features)\n",
        "\n",
        "cm3 = confusion_matrix(test_label, predictions)\n",
        "print(cm3)\n",
        "print(calculate_precision_n_recall(cm3))\n",
        "\n",
        "print(accuracy_score(test_label, predictions))"
      ]
    },
    {
      "cell_type": "code",
      "execution_count": 56,
      "metadata": {},
      "outputs": [
        {
          "name": "stdout",
          "output_type": "stream",
          "text": [
            "[[345   3]\n",
            " [314   0]]\n",
            "precision: 0.0%, recall: 0.0%, F1-Score: nan%\n",
            "0.5211480362537765\n"
          ]
        },
        {
          "name": "stderr",
          "output_type": "stream",
          "text": [
            "C:\\Users\\mahmo\\AppData\\Local\\Temp\\ipykernel_2504\\801578257.py:9: RuntimeWarning: invalid value encountered in scalar divide\n",
            "  F1_Score = (2 * precision * recall / (precision + recall)).round(3)\n"
          ]
        }
      ],
      "source": [
        "from sklearn.metrics import accuracy_score\n",
        "\n",
        "SVM_sg = svm.SVC(kernel='sigmoid', random_state=42)\n",
        "\n",
        "SVM_sg.fit(train_features, train_label)\n",
        "\n",
        "predictions = SVM_sg.predict(test_features)\n",
        "\n",
        "cm4 = confusion_matrix(test_label, predictions)\n",
        "print(cm4)\n",
        "print(calculate_precision_n_recall(cm4))\n",
        "\n",
        "print(accuracy_score(test_label, predictions))"
      ]
    },
    {
      "cell_type": "code",
      "execution_count": 57,
      "metadata": {},
      "outputs": [],
      "source": [
        "from sklearn.preprocessing import PolynomialFeatures\n",
        "\n",
        "pf = PolynomialFeatures()\n",
        "\n",
        "\n"
      ]
    }
  ],
  "metadata": {
    "colab": {
      "collapsed_sections": [
        "Ja1yod7C30N7",
        "qP7Fnpch4FTV",
        "dl6Zett_-ZR8",
        "XolWD6GSFTtF",
        "vuJT7HTZIFjN",
        "tbWvG6y3IlnM",
        "qqBZtqsdKJ57"
      ],
      "provenance": []
    },
    "kernelspec": {
      "display_name": "base",
      "language": "python",
      "name": "python3"
    },
    "language_info": {
      "codemirror_mode": {
        "name": "ipython",
        "version": 3
      },
      "file_extension": ".py",
      "mimetype": "text/x-python",
      "name": "python",
      "nbconvert_exporter": "python",
      "pygments_lexer": "ipython3",
      "version": "3.11.4"
    }
  },
  "nbformat": 4,
  "nbformat_minor": 0
}
